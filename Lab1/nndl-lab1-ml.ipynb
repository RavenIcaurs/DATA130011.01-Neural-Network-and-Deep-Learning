{
 "cells": [
  {
   "cell_type": "markdown",
   "metadata": {
    "papermill": {
     "duration": 0.01301,
     "end_time": "2021-03-21T12:55:30.945856",
     "exception": false,
     "start_time": "2021-03-21T12:55:30.932846",
     "status": "completed"
    },
    "tags": []
   },
   "source": [
    "24. UCI上的三个机器学习任务\n",
    "\n",
    "24.1 鸢尾花数据集分类任务"
   ]
  },
  {
   "cell_type": "code",
   "execution_count": 1,
   "metadata": {
    "_cell_guid": "b1076dfc-b9ad-4769-8c92-a6c4dae69d19",
    "_uuid": "8f2839f25d086af736a60e9eeb907d3b93b6e0e5",
    "execution": {
     "iopub.execute_input": "2021-03-21T12:55:30.972763Z",
     "iopub.status.busy": "2021-03-21T12:55:30.972091Z",
     "iopub.status.idle": "2021-03-21T12:55:33.199677Z",
     "shell.execute_reply": "2021-03-21T12:55:33.200222Z"
    },
    "papermill": {
     "duration": 2.242931,
     "end_time": "2021-03-21T12:55:33.200552",
     "exception": false,
     "start_time": "2021-03-21T12:55:30.957621",
     "status": "completed"
    },
    "tags": []
   },
   "outputs": [],
   "source": [
    "import numpy as np \n",
    "import matplotlib.pyplot as plt\n",
    "from sklearn.model_selection import train_test_split\n",
    "import torch"
   ]
  },
  {
   "cell_type": "code",
   "execution_count": 2,
   "metadata": {
    "execution": {
     "iopub.execute_input": "2021-03-21T12:55:33.227970Z",
     "iopub.status.busy": "2021-03-21T12:55:33.227301Z",
     "iopub.status.idle": "2021-03-21T12:55:33.243444Z",
     "shell.execute_reply": "2021-03-21T12:55:33.242787Z"
    },
    "papermill": {
     "duration": 0.030578,
     "end_time": "2021-03-21T12:55:33.243604",
     "exception": false,
     "start_time": "2021-03-21T12:55:33.213026",
     "status": "completed"
    },
    "tags": []
   },
   "outputs": [],
   "source": [
    "with open(\"../input/ucl-iris/iris.data\", \"r\") as f:\n",
    "    lines = f.readlines()"
   ]
  },
  {
   "cell_type": "markdown",
   "metadata": {
    "papermill": {
     "duration": 0.011463,
     "end_time": "2021-03-21T12:55:33.266995",
     "exception": false,
     "start_time": "2021-03-21T12:55:33.255532",
     "status": "completed"
    },
    "tags": []
   },
   "source": [
    "查看文档与数据格式"
   ]
  },
  {
   "cell_type": "code",
   "execution_count": 3,
   "metadata": {
    "execution": {
     "iopub.execute_input": "2021-03-21T12:55:33.299971Z",
     "iopub.status.busy": "2021-03-21T12:55:33.299250Z",
     "iopub.status.idle": "2021-03-21T12:55:33.302357Z",
     "shell.execute_reply": "2021-03-21T12:55:33.301771Z"
    },
    "papermill": {
     "duration": 0.023745,
     "end_time": "2021-03-21T12:55:33.302500",
     "exception": false,
     "start_time": "2021-03-21T12:55:33.278755",
     "status": "completed"
    },
    "tags": []
   },
   "outputs": [],
   "source": [
    "x = np.empty(shape=(150,4),dtype=\"float\")\n",
    "y = np.empty(shape=150, dtype=\"int\")\n",
    "\n",
    "name_dict = {\"Iris-setosa\":0, \"Iris-versicolor\":1, \"Iris-virginica\":2}\n",
    "feature_dict = {0:\"sepal length\", 1:\"sepal width\", 2:\"petal length\", 3:\"petal width\"}\n",
    "for i in range(len(lines)-1):\n",
    "    s = lines[i]\n",
    "    l = s.split(',')\n",
    "    x[i] = [float(a) for a in l[:4]]\n",
    "    y[i] = name_dict[l[4].strip('\\n')]\n"
   ]
  },
  {
   "cell_type": "markdown",
   "metadata": {
    "papermill": {
     "duration": 0.011658,
     "end_time": "2021-03-21T12:55:33.326424",
     "exception": false,
     "start_time": "2021-03-21T12:55:33.314766",
     "status": "completed"
    },
    "tags": []
   },
   "source": [
    "文档中提及，花瓣的长度和宽度与花的种类有很强的相关性，以这两个特征绘制散点图"
   ]
  },
  {
   "cell_type": "code",
   "execution_count": 4,
   "metadata": {
    "execution": {
     "iopub.execute_input": "2021-03-21T12:55:33.354024Z",
     "iopub.status.busy": "2021-03-21T12:55:33.353319Z",
     "iopub.status.idle": "2021-03-21T12:55:35.103668Z",
     "shell.execute_reply": "2021-03-21T12:55:35.104164Z"
    },
    "papermill": {
     "duration": 1.765897,
     "end_time": "2021-03-21T12:55:35.104344",
     "exception": false,
     "start_time": "2021-03-21T12:55:33.338447",
     "status": "completed"
    },
    "tags": []
   },
   "outputs": [
    {
     "data": {
      "image/png": "[encoded data removed]",
      "text/plain": [
       "<Figure size 432x288 with 1 Axes>"
      ]
     },
     "metadata": {
      "needs_background": "light"
     },
     "output_type": "display_data"
    }
   ],
   "source": [
    "for i in range(len(x)):\n",
    "    if y[i] == 0:\n",
    "        plt.scatter(x[i][2],x[i][3],color='r')\n",
    "    elif y[i] == 1:\n",
    "        plt.scatter(x[i][2],x[i][3],color='g')\n",
    "    elif y[i] == 2:\n",
    "        plt.scatter(x[i][2],x[i][3],color='b')\n",
    "plt.show()"
   ]
  },
  {
   "cell_type": "markdown",
   "metadata": {
    "papermill": {
     "duration": 0.01254,
     "end_time": "2021-03-21T12:55:35.130093",
     "exception": false,
     "start_time": "2021-03-21T12:55:35.117553",
     "status": "completed"
    },
    "tags": []
   },
   "source": [
    "由于数据在原空间年内并非线性可分，采用逻辑斯特回归\n",
    "\n",
    "观察到三种花区分度较高，对每一对鸢尾花种类都产生一个分类器，也即产生三个分类器，最终采用投票预测方法"
   ]
  },
  {
   "cell_type": "code",
   "execution_count": 5,
   "metadata": {
    "execution": {
     "iopub.execute_input": "2021-03-21T12:55:35.169846Z",
     "iopub.status.busy": "2021-03-21T12:55:35.169006Z",
     "iopub.status.idle": "2021-03-21T12:55:35.171564Z",
     "shell.execute_reply": "2021-03-21T12:55:35.172078Z"
    },
    "papermill": {
     "duration": 0.029203,
     "end_time": "2021-03-21T12:55:35.172262",
     "exception": false,
     "start_time": "2021-03-21T12:55:35.143059",
     "status": "completed"
    },
    "tags": []
   },
   "outputs": [],
   "source": [
    "#定义逻辑斯特回归模型\n",
    "class LogisticModel(torch.nn.Module):\n",
    "    def __init__(self):\n",
    "        super().__init__()\n",
    "        self.linear = torch.nn.Linear(4,1)\n",
    "    def forward(self,x):\n",
    "        return torch.sigmoid(self.linear(x))\n",
    "    \n",
    "class LogisticClassifier():\n",
    "    def __init__(self):\n",
    "        super().__init__()\n",
    "        self.learning_rate = 0.1\n",
    "        self.epoch = 5000\n",
    "        self.model = LogisticModel()\n",
    "        self.criterion = torch.nn.BCELoss()\n",
    "        self.optimizer = torch.optim.SGD(self.model.parameters(), lr=self.learning_rate) \n",
    "        \n",
    "    def train(self,X,Y):\n",
    "        x = torch.Tensor(X)\n",
    "        y = torch.Tensor(Y).reshape(-1,1)\n",
    "        for e in range(self.epoch):\n",
    "            pred = self.model(x)\n",
    "            loss = self.criterion(pred,y)\n",
    "            self.optimizer.zero_grad()\n",
    "            loss.backward()\n",
    "            self.optimizer.step()\n",
    "            \n",
    "            if e % 1000 == 0:\n",
    "                print(\"epoch:{}, loss:{}\".format(e, loss.data))\n",
    "    \n",
    "    def test(self,X,a,b):\n",
    "        x = torch.Tensor(X)\n",
    "        with torch.no_grad():\n",
    "            y = self.model(x)\n",
    "        pred = np.empty(y.shape,dtype=\"int\")\n",
    "        for i in range(len(pred)):\n",
    "            if y[i] > 0.5:\n",
    "                pred[i] = a\n",
    "            else:\n",
    "                pred[i] = b\n",
    "        return pred"
   ]
  },
  {
   "cell_type": "code",
   "execution_count": 6,
   "metadata": {
    "execution": {
     "iopub.execute_input": "2021-03-21T12:55:35.207947Z",
     "iopub.status.busy": "2021-03-21T12:55:35.207259Z",
     "iopub.status.idle": "2021-03-21T12:55:40.551658Z",
     "shell.execute_reply": "2021-03-21T12:55:40.550952Z"
    },
    "papermill": {
     "duration": 5.36627,
     "end_time": "2021-03-21T12:55:40.551826",
     "exception": false,
     "start_time": "2021-03-21T12:55:35.185556",
     "status": "completed"
    },
    "tags": []
   },
   "outputs": [
    {
     "name": "stdout",
     "output_type": "stream",
     "text": [
      "epoch:0, loss:1.0394037961959839\n",
      "epoch:1000, loss:0.007556920405477285\n",
      "epoch:2000, loss:0.0039921593852341175\n",
      "epoch:3000, loss:0.002755723660811782\n",
      "epoch:4000, loss:0.002119962126016617\n",
      "epoch:0, loss:0.7498001456260681\n",
      "epoch:1000, loss:0.00383496074937284\n",
      "epoch:2000, loss:0.0019435225985944271\n",
      "epoch:3000, loss:0.001306855701841414\n",
      "epoch:4000, loss:0.0009863224113360047\n",
      "epoch:0, loss:1.2368155717849731\n",
      "epoch:1000, loss:0.18460850417613983\n",
      "epoch:2000, loss:0.14864574372768402\n",
      "epoch:3000, loss:0.13451246917247772\n",
      "epoch:4000, loss:0.1266985386610031\n"
     ]
    }
   ],
   "source": [
    "xtrain, xtest, ytrain, ytest = train_test_split(x, y, test_size=0.2)\n",
    "\n",
    "C01 = LogisticClassifier()\n",
    "C02 = LogisticClassifier()\n",
    "C12 = LogisticClassifier()\n",
    "\n",
    "def generate(a,b):\n",
    "    #输入种类a，b，抽取出A-B二分类器需要的正反例数据\n",
    "    x = []\n",
    "    y = []\n",
    "    for i in range(len(xtrain)):\n",
    "        if ytrain[i] == a:\n",
    "            x.append(xtrain[i])\n",
    "            y.append(1)\n",
    "        elif ytrain[i] == b:\n",
    "            x.append(xtrain[i])\n",
    "            y.append(0)\n",
    "    return x,y\n",
    "\n",
    "\n",
    "x,y = generate(0,1)\n",
    "C01.train(x,y)\n",
    "x,y = generate(0,2)\n",
    "C02.train(x,y)\n",
    "x,y = generate(1,2)\n",
    "C12.train(x,y)"
   ]
  },
  {
   "cell_type": "markdown",
   "metadata": {
    "papermill": {
     "duration": 0.01755,
     "end_time": "2021-03-21T12:55:40.588683",
     "exception": false,
     "start_time": "2021-03-21T12:55:40.571133",
     "status": "completed"
    },
    "tags": []
   },
   "source": [
    "预测测试集上的结果，输出储存投票结果vote矩阵发现并未出现三种花平票的情况"
   ]
  },
  {
   "cell_type": "code",
   "execution_count": 7,
   "metadata": {
    "execution": {
     "iopub.execute_input": "2021-03-21T12:55:40.632701Z",
     "iopub.status.busy": "2021-03-21T12:55:40.631794Z",
     "iopub.status.idle": "2021-03-21T12:55:40.645281Z",
     "shell.execute_reply": "2021-03-21T12:55:40.645839Z"
    },
    "papermill": {
     "duration": 0.039579,
     "end_time": "2021-03-21T12:55:40.646021",
     "exception": false,
     "start_time": "2021-03-21T12:55:40.606442",
     "status": "completed"
    },
    "tags": []
   },
   "outputs": [
    {
     "name": "stdout",
     "output_type": "stream",
     "text": [
      "[ True  True  True  True  True  True  True  True  True  True  True  True\n",
      "  True  True  True  True  True  True  True  True  True  True  True  True\n",
      "  True  True  True  True  True  True]\n"
     ]
    }
   ],
   "source": [
    "votes = np.zeros(3)\n",
    "\n",
    "vote1 = C01.test(xtest,0,1).reshape(-1)\n",
    "vote2 = C02.test(xtest,0,2).reshape(-1)\n",
    "vote3 = C12.test(xtest,1,2).reshape(-1)\n",
    "v = np.stack((vote1,vote2,vote3),axis=1)\n",
    "\n",
    "pred = np.empty(len(v),dtype=\"int\")\n",
    "for i in range(len(v)):\n",
    "    c = np.bincount(v[i])\n",
    "    arg = np.argmax(c)\n",
    "    pred[i] = arg\n",
    "\n",
    "print(pred==ytest)"
   ]
  },
  {
   "cell_type": "markdown",
   "metadata": {
    "papermill": {
     "duration": 0.018315,
     "end_time": "2021-03-21T12:55:40.683099",
     "exception": false,
     "start_time": "2021-03-21T12:55:40.664784",
     "status": "completed"
    },
    "tags": []
   },
   "source": [
    "预测结果很好，准确率达到100%"
   ]
  },
  {
   "cell_type": "markdown",
   "metadata": {
    "papermill": {
     "duration": 0.01863,
     "end_time": "2021-03-21T12:55:40.720239",
     "exception": false,
     "start_time": "2021-03-21T12:55:40.701609",
     "status": "completed"
    },
    "tags": []
   },
   "source": [
    "24.2 葡萄酒数据集"
   ]
  },
  {
   "cell_type": "markdown",
   "metadata": {
    "papermill": {
     "duration": 0.017931,
     "end_time": "2021-03-21T12:55:40.756378",
     "exception": false,
     "start_time": "2021-03-21T12:55:40.738447",
     "status": "completed"
    },
    "tags": []
   },
   "source": [
    "数据集为三种不同葡萄酒的酒精含量等特征，对应于三分类问题，采用三个逻辑斯特回归模型\n",
    "\n",
    "每次将其他种类的葡萄酒作为负样例，该种类作为正样例，每个模型输出对应葡萄酒种类的概率\n",
    "\n",
    "对数据进行预处理，采用标准化，证明有无预处理效果差距很大\n",
    "\n",
    "在没有进行标准化时，损失函数很难下降，但预处理后下降明显\n"
   ]
  },
  {
   "cell_type": "code",
   "execution_count": 8,
   "metadata": {
    "execution": {
     "iopub.execute_input": "2021-03-21T12:55:40.813839Z",
     "iopub.status.busy": "2021-03-21T12:55:40.812931Z",
     "iopub.status.idle": "2021-03-21T12:55:53.411312Z",
     "shell.execute_reply": "2021-03-21T12:55:53.410089Z"
    },
    "papermill": {
     "duration": 12.637033,
     "end_time": "2021-03-21T12:55:53.411633",
     "exception": false,
     "start_time": "2021-03-21T12:55:40.774600",
     "status": "completed"
    },
    "tags": []
   },
   "outputs": [
    {
     "name": "stdout",
     "output_type": "stream",
     "text": [
      "epoch:0, loss:0.6326785683631897\n",
      "epoch:1000, loss:0.05629235878586769\n",
      "epoch:2000, loss:0.036069393157958984\n",
      "epoch:3000, loss:0.027352377772331238\n",
      "epoch:4000, loss:0.022315219044685364\n",
      "epoch:5000, loss:0.018977554515004158\n",
      "epoch:6000, loss:0.0165802463889122\n",
      "epoch:7000, loss:0.014763683080673218\n",
      "epoch:8000, loss:0.01333353016525507\n",
      "epoch:9000, loss:0.012174760922789574\n",
      "epoch:0, loss:0.7335184812545776\n",
      "epoch:1000, loss:0.10480141639709473\n",
      "epoch:2000, loss:0.07624847441911697\n",
      "epoch:3000, loss:0.06305144727230072\n",
      "epoch:4000, loss:0.05492452532052994\n",
      "epoch:5000, loss:0.049221254885196686\n",
      "epoch:6000, loss:0.04490749537944794\n",
      "epoch:7000, loss:0.04148265719413757\n",
      "epoch:8000, loss:0.03866995498538017\n",
      "epoch:9000, loss:0.03630165010690689\n",
      "epoch:0, loss:0.8460639119148254\n",
      "epoch:1000, loss:0.08238323777914047\n",
      "epoch:2000, loss:0.05382785201072693\n",
      "epoch:3000, loss:0.04145408421754837\n",
      "epoch:4000, loss:0.03431401774287224\n",
      "epoch:5000, loss:0.02958131767809391\n",
      "epoch:6000, loss:0.02617395669221878\n",
      "epoch:7000, loss:0.023582158610224724\n",
      "epoch:8000, loss:0.02153192274272442\n",
      "epoch:9000, loss:0.019861828535795212\n",
      "[ True  True  True  True  True  True  True  True  True  True  True  True\n",
      "  True  True  True  True  True  True False  True  True  True  True  True\n",
      "  True  True  True  True  True  True  True  True  True  True  True  True\n",
      "  True  True  True  True  True  True  True  True  True  True  True  True\n",
      "  True  True  True  True  True  True]\n"
     ]
    }
   ],
   "source": [
    "class LogisticModel(torch.nn.Module):\n",
    "    def __init__(self):\n",
    "        super().__init__()\n",
    "        self.linear = torch.nn.Linear(13,1)\n",
    "    def forward(self,x):\n",
    "        return torch.sigmoid(self.linear(x))\n",
    "    \n",
    "class LogisticClassifier():\n",
    "    def __init__(self):\n",
    "        super().__init__()\n",
    "        self.learning_rate = 0.03\n",
    "        self.epoch = 10000\n",
    "        self.model = LogisticModel()\n",
    "        self.criterion = torch.nn.BCELoss()\n",
    "        self.optimizer = torch.optim.Adagrad(self.model.parameters(), lr=self.learning_rate) \n",
    "        \n",
    "    def train(self,X,Y):\n",
    "        x = torch.Tensor(X)\n",
    "        y = torch.Tensor(Y).reshape(-1,1)\n",
    "        for e in range(self.epoch):\n",
    "            pred = self.model(x)\n",
    "            loss = self.criterion(pred,y)\n",
    "            self.optimizer.zero_grad()\n",
    "            loss.backward()\n",
    "            self.optimizer.step()\n",
    "            \n",
    "            if e % 1000 == 0:\n",
    "                print(\"epoch:{}, loss:{}\".format(e, loss.data))\n",
    "    \n",
    "    def test(self,X):\n",
    "        x = torch.Tensor(X)\n",
    "        with torch.no_grad():\n",
    "            y = self.model(x)\n",
    "        return y\n",
    "\n",
    "#读取数据\n",
    "x = []\n",
    "y = []\n",
    "for s in open(\"../input/ucl-wine/wine.data\", \"r\"):\n",
    "    s = s.replace('\\n','')\n",
    "    l = s.split(',')\n",
    "    y.append(int(l[0]))\n",
    "    x.append([float(x) for x in l[1:]])\n",
    "\n",
    "#特征标准化\n",
    "x = np.array(x, dtype=\"float\")\n",
    "y = np.array(y, dtype=\"int\")\n",
    "x -= np.mean(x,axis=0)\n",
    "x /= np.std(x,axis=0)\n",
    "\n",
    "xtrain, xtest, ytrain, ytest = train_test_split(x, y, test_size=0.3)\n",
    "\n",
    "Wine1 = LogisticClassifier()\n",
    "Wine2 = LogisticClassifier()\n",
    "Wine3 = LogisticClassifier()\n",
    "\n",
    "def generate(a):\n",
    "    #输入葡萄酒的种类a，将其他种类的葡萄酒设置为负样例，标签值设置为0\n",
    "    x = []\n",
    "    y = []\n",
    "    for i in range(len(xtrain)):\n",
    "        if ytrain[i] == a:\n",
    "            x.append(xtrain[i])\n",
    "            y.append(1)\n",
    "        else:\n",
    "            x.append(xtrain[i])\n",
    "            y.append(0)\n",
    "    return x,y\n",
    "\n",
    "\n",
    "x,y = generate(1)\n",
    "Wine1.train(x,y)\n",
    "x,y = generate(2)\n",
    "Wine2.train(x,y)\n",
    "x,y = generate(3)\n",
    "Wine3.train(x,y)\n",
    "\n",
    "#由概率值预测葡萄酒的种类\n",
    "prob1 = Wine1.test(xtest).reshape(-1)\n",
    "prob2 = Wine2.test(xtest).reshape(-1)\n",
    "prob3 = Wine3.test(xtest).reshape(-1)\n",
    "prob = np.stack((prob1,prob2,prob3),axis=1)\n",
    "pred = np.argmax(prob,axis=1)+1\n",
    "print(pred==ytest)"
   ]
  },
  {
   "cell_type": "markdown",
   "metadata": {
    "papermill": {
     "duration": 0.030319,
     "end_time": "2021-03-21T12:55:53.474348",
     "exception": false,
     "start_time": "2021-03-21T12:55:53.444029",
     "status": "completed"
    },
    "tags": []
   },
   "source": [
    "多次实验，每次实验几乎都发现存在1个很难正确分类的样本，其他大部分样本分类结果均正确，准确率约为98.12%"
   ]
  },
  {
   "cell_type": "markdown",
   "metadata": {
    "papermill": {
     "duration": 0.027029,
     "end_time": "2021-03-21T12:55:53.529029",
     "exception": false,
     "start_time": "2021-03-21T12:55:53.502000",
     "status": "completed"
    },
    "tags": []
   },
   "source": [
    "24.3 人类数据集"
   ]
  },
  {
   "cell_type": "markdown",
   "metadata": {
    "papermill": {
     "duration": 0.027022,
     "end_time": "2021-03-21T12:55:53.583382",
     "exception": false,
     "start_time": "2021-03-21T12:55:53.556360",
     "status": "completed"
    },
    "tags": []
   },
   "source": [
    "任务为预测人的体重是否大于50kg，输入为不同人的体重信息和各种其他信息，对应二分类问题\n",
    "\n",
    "由于数据涉及离散型特征，将离散型特征用独热向量编码，连续型特征作标准化处理"
   ]
  },
  {
   "cell_type": "code",
   "execution_count": 9,
   "metadata": {
    "execution": {
     "iopub.execute_input": "2021-03-21T12:55:53.658655Z",
     "iopub.status.busy": "2021-03-21T12:55:53.657932Z",
     "iopub.status.idle": "2021-03-21T12:56:01.783294Z",
     "shell.execute_reply": "2021-03-21T12:56:01.783922Z"
    },
    "papermill": {
     "duration": 8.173127,
     "end_time": "2021-03-21T12:56:01.784114",
     "exception": false,
     "start_time": "2021-03-21T12:55:53.610987",
     "status": "completed"
    },
    "tags": []
   },
   "outputs": [
    {
     "name": "stdout",
     "output_type": "stream",
     "text": [
      "epoch:0, loss:0.7003549337387085\n",
      "epoch:1000, loss:0.3153149485588074\n",
      "epoch:2000, loss:0.3151177763938904\n",
      "epoch:3000, loss:0.31503188610076904\n",
      "8326\n",
      "accuracy:  0.8522878493192753\n"
     ]
    }
   ],
   "source": [
    "x1 = []\n",
    "x2 = []\n",
    "y = []\n",
    "cont_indexs = [0,2,4,10,11,12]\n",
    "scat_indexs = [1,3,5,6,7,8,9,13]\n",
    "for s in open(\"../input/ucl-adult/adult.data\", \"r\"):\n",
    "    s = s.replace('\\n','')\n",
    "    s = s.replace(' ','')\n",
    "    l = s.split(',')\n",
    "    if len(l) != 15:\n",
    "        continue\n",
    "    if l[-1] == \">50K\":\n",
    "        y.append(1)\n",
    "    elif l[-1] == \"<=50K\":\n",
    "        y.append(0)\n",
    "    else:\n",
    "        print(l[-1])\n",
    "    #将连续特征存入x1,离散特征存入x2\n",
    "    x1.append([l[i] for i in cont_indexs])\n",
    "    x2.append([l[i] for i in scat_indexs])\n",
    "\n",
    "x1 = np.array(x1,dtype=\"float\")\n",
    "x1 -= np.mean(x1,axis=0)\n",
    "x1 /= np.std(x1,axis=0)\n",
    "#对连续型数据进行标准化\n",
    "\n",
    "from sklearn.preprocessing import OneHotEncoder\n",
    "encoder = OneHotEncoder(sparse=False)\n",
    "x2 = encoder.fit_transform(x2)\n",
    "x2 = np.array(x2,dtype=\"int\")\n",
    "#将离散型特征用onehot编码后得到长度为102的独热向量\n",
    "\n",
    "x = np.concatenate((x1,x2),axis=1)\n",
    "#得到特征维度108\n",
    "\n",
    "xtrain, xtest, ytrain, ytest = train_test_split(x, y, test_size=0.3)\n",
    "\n",
    "#模型定义\n",
    "class LogisticModel(torch.nn.Module):\n",
    "    def __init__(self):\n",
    "        super().__init__()\n",
    "        self.linear = torch.nn.Linear(108,1)\n",
    "    def forward(self,x):\n",
    "        return torch.sigmoid(self.linear(x))\n",
    "    \n",
    "class LogisticClassifier():\n",
    "    def __init__(self):\n",
    "        super().__init__()\n",
    "        self.learning_rate = 0.1\n",
    "        self.epoch = 3500\n",
    "        self.model = LogisticModel()\n",
    "        self.criterion = torch.nn.BCELoss()\n",
    "        self.optimizer = torch.optim.Adagrad(self.model.parameters(), lr=self.learning_rate) \n",
    "        \n",
    "    def train(self,X,Y):\n",
    "        x = torch.Tensor(X)\n",
    "        y = torch.Tensor(Y).reshape(-1,1)\n",
    "        for e in range(self.epoch):\n",
    "            pred = self.model(x)\n",
    "            loss = self.criterion(pred,y)\n",
    "            self.optimizer.zero_grad()\n",
    "            loss.backward()\n",
    "            self.optimizer.step()\n",
    "            \n",
    "            if e % 1000 == 0:\n",
    "                print(\"epoch:{}, loss:{}\".format(e, loss.data))\n",
    "    \n",
    "    def test(self,X):\n",
    "        x = torch.Tensor(X)\n",
    "        with torch.no_grad():\n",
    "            y = self.model(x)\n",
    "        pred = [a>0.5 for a in y]\n",
    "        return np.array(pred,dtype=\"int\")\n",
    "\n",
    "Adult = LogisticClassifier()\n",
    "Adult.train(xtrain,ytrain)\n",
    "pred = Adult.test(xtest)\n",
    "print(sum(pred==ytest))\n",
    "accuracy = sum(pred==ytest) / len(ytest)\n",
    "print(\"accuracy: \", accuracy)"
   ]
  },
  {
   "cell_type": "markdown",
   "metadata": {
    "papermill": {
     "duration": 0.02925,
     "end_time": "2021-03-21T12:56:01.842755",
     "exception": false,
     "start_time": "2021-03-21T12:56:01.813505",
     "status": "completed"
    },
    "tags": []
   },
   "source": [
    "分类准确率为85%"
   ]
  }
 ],
 "metadata": {
  "kernelspec": {
   "display_name": "Python 3",
   "language": "python",
   "name": "python3"
  },
  "language_info": {
   "codemirror_mode": {
    "name": "ipython",
    "version": 3
   },
   "file_extension": ".py",
   "mimetype": "text/x-python",
   "name": "python",
   "nbconvert_exporter": "python",
   "pygments_lexer": "ipython3",
   "version": "3.7.9"
  },
  "papermill": {
   "default_parameters": {},
   "duration": 37.63563,
   "end_time": "2021-03-21T12:56:02.583236",
   "environment_variables": {},
   "exception": null,
   "input_path": "__notebook__.ipynb",
   "output_path": "__notebook__.ipynb",
   "parameters": {},
   "start_time": "2021-03-21T12:55:24.947606",
   "version": "2.2.2"
  }
 },
 "nbformat": 4,
 "nbformat_minor": 4
}
