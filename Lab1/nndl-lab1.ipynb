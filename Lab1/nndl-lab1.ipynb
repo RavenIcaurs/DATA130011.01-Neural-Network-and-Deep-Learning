{
 "cells": [
  {
   "cell_type": "markdown",
   "metadata": {
    "papermill": {
     "duration": 0.045351,
     "end_time": "2021-03-21T04:50:36.445571",
     "exception": false,
     "start_time": "2021-03-21T04:50:36.400220",
     "status": "completed"
    },
    "tags": []
   },
   "source": [
    "<center>Lab1</center>\n",
    "<center>19307130195 陈乐偲</center>\n"
   ]
  },
  {
   "cell_type": "markdown",
   "metadata": {
    "papermill": {
     "duration": 0.040609,
     "end_time": "2021-03-21T04:50:36.527103",
     "exception": false,
     "start_time": "2021-03-21T04:50:36.486494",
     "status": "completed"
    },
    "tags": []
   },
   "source": [
    "导入相关库"
   ]
  },
  {
   "cell_type": "code",
   "execution_count": 1,
   "metadata": {
    "_cell_guid": "b1076dfc-b9ad-4769-8c92-a6c4dae69d19",
    "_uuid": "8f2839f25d086af736a60e9eeb907d3b93b6e0e5",
    "execution": {
     "iopub.execute_input": "2021-03-21T04:50:36.615368Z",
     "iopub.status.busy": "2021-03-21T04:50:36.614552Z",
     "iopub.status.idle": "2021-03-21T04:50:37.723832Z",
     "shell.execute_reply": "2021-03-21T04:50:37.723105Z"
    },
    "papermill": {
     "duration": 1.156356,
     "end_time": "2021-03-21T04:50:37.724078",
     "exception": false,
     "start_time": "2021-03-21T04:50:36.567722",
     "status": "completed"
    },
    "tags": []
   },
   "outputs": [],
   "source": [
    "import numpy as np \n",
    "import pandas as pd \n",
    "import torch\n",
    "from IPython.display import Latex"
   ]
  },
  {
   "cell_type": "markdown",
   "metadata": {
    "papermill": {
     "duration": 0.042086,
     "end_time": "2021-03-21T04:50:37.807885",
     "exception": false,
     "start_time": "2021-03-21T04:50:37.765799",
     "status": "completed"
    },
    "tags": []
   },
   "source": [
    "1.实现列表去重\n",
    "\n",
    "偷懒的方法：将列表转换为set再转换为list即可"
   ]
  },
  {
   "cell_type": "code",
   "execution_count": 2,
   "metadata": {
    "execution": {
     "iopub.execute_input": "2021-03-21T04:50:37.895947Z",
     "iopub.status.busy": "2021-03-21T04:50:37.895305Z",
     "iopub.status.idle": "2021-03-21T04:50:37.897290Z",
     "shell.execute_reply": "2021-03-21T04:50:37.897733Z"
    },
    "papermill": {
     "duration": 0.047979,
     "end_time": "2021-03-21T04:50:37.897910",
     "exception": false,
     "start_time": "2021-03-21T04:50:37.849931",
     "status": "completed"
    },
    "tags": []
   },
   "outputs": [],
   "source": [
    "def unique(A):\n",
    "    #输入list A，输出去重后的结果\n",
    "    return list(set(A))"
   ]
  },
  {
   "cell_type": "code",
   "execution_count": 3,
   "metadata": {
    "execution": {
     "iopub.execute_input": "2021-03-21T04:50:37.985529Z",
     "iopub.status.busy": "2021-03-21T04:50:37.984886Z",
     "iopub.status.idle": "2021-03-21T04:50:37.992347Z",
     "shell.execute_reply": "2021-03-21T04:50:37.991799Z"
    },
    "papermill": {
     "duration": 0.052937,
     "end_time": "2021-03-21T04:50:37.992479",
     "exception": false,
     "start_time": "2021-03-21T04:50:37.939542",
     "status": "completed"
    },
    "tags": []
   },
   "outputs": [
    {
     "name": "stdout",
     "output_type": "stream",
     "text": [
      "[1, 2, 3, 4, 5]\n"
     ]
    }
   ],
   "source": [
    "A = [1,2,3,3,3,4,5]\n",
    "print(unique(A))"
   ]
  },
  {
   "cell_type": "markdown",
   "metadata": {
    "papermill": {
     "duration": 0.042436,
     "end_time": "2021-03-21T04:50:38.078040",
     "exception": false,
     "start_time": "2021-03-21T04:50:38.035604",
     "status": "completed"
    },
    "tags": []
   },
   "source": [
    "不偷懒的方法：将没有出现在新列表中的元素加入新列表"
   ]
  },
  {
   "cell_type": "code",
   "execution_count": 4,
   "metadata": {
    "execution": {
     "iopub.execute_input": "2021-03-21T04:50:38.170663Z",
     "iopub.status.busy": "2021-03-21T04:50:38.170061Z",
     "iopub.status.idle": "2021-03-21T04:50:38.173071Z",
     "shell.execute_reply": "2021-03-21T04:50:38.172455Z"
    },
    "papermill": {
     "duration": 0.051925,
     "end_time": "2021-03-21T04:50:38.173208",
     "exception": false,
     "start_time": "2021-03-21T04:50:38.121283",
     "status": "completed"
    },
    "tags": []
   },
   "outputs": [
    {
     "name": "stdout",
     "output_type": "stream",
     "text": [
      "[1, 2, 3, 4, 5]\n"
     ]
    }
   ],
   "source": [
    "def unique(A):\n",
    "    #输出列表A，输出去重后的列表B\n",
    "    B = []\n",
    "    for a in A:\n",
    "        if a not in B:\n",
    "            B.append(a)\n",
    "    return B\n",
    "\n",
    "A = [1,2,3,3,3,4,4,5]\n",
    "print(unique(A))"
   ]
  },
  {
   "cell_type": "markdown",
   "metadata": {
    "papermill": {
     "duration": 0.042492,
     "end_time": "2021-03-21T04:50:38.259645",
     "exception": false,
     "start_time": "2021-03-21T04:50:38.217153",
     "status": "completed"
    },
    "tags": []
   },
   "source": [
    "2.判断回文串\n",
    "\n",
    "偷懒的方法：先用replace函数去除空白字符，再用切片倒序，并判断倒序串与原字符串是否相等"
   ]
  },
  {
   "cell_type": "code",
   "execution_count": 5,
   "metadata": {
    "execution": {
     "iopub.execute_input": "2021-03-21T04:50:38.350338Z",
     "iopub.status.busy": "2021-03-21T04:50:38.349651Z",
     "iopub.status.idle": "2021-03-21T04:50:38.353175Z",
     "shell.execute_reply": "2021-03-21T04:50:38.352688Z"
    },
    "papermill": {
     "duration": 0.0509,
     "end_time": "2021-03-21T04:50:38.353311",
     "exception": false,
     "start_time": "2021-03-21T04:50:38.302411",
     "status": "completed"
    },
    "tags": []
   },
   "outputs": [],
   "source": [
    "def isPalindrome(s):\n",
    "    s = s.replace(\" \",\"\")\n",
    "    r = s[::-1]\n",
    "    return s == r"
   ]
  },
  {
   "cell_type": "code",
   "execution_count": 6,
   "metadata": {
    "execution": {
     "iopub.execute_input": "2021-03-21T04:50:38.441929Z",
     "iopub.status.busy": "2021-03-21T04:50:38.441379Z",
     "iopub.status.idle": "2021-03-21T04:50:38.447465Z",
     "shell.execute_reply": "2021-03-21T04:50:38.446762Z"
    },
    "papermill": {
     "duration": 0.050406,
     "end_time": "2021-03-21T04:50:38.447658",
     "exception": false,
     "start_time": "2021-03-21T04:50:38.397252",
     "status": "completed"
    },
    "tags": []
   },
   "outputs": [
    {
     "name": "stdout",
     "output_type": "stream",
     "text": [
      "True\n",
      "True\n"
     ]
    }
   ],
   "source": [
    "s = \"nurses run\"\n",
    "print(isPalindrome(s))\n",
    "s = \"madam\"\n",
    "print(isPalindrome(s))"
   ]
  },
  {
   "cell_type": "markdown",
   "metadata": {
    "papermill": {
     "duration": 0.042979,
     "end_time": "2021-03-21T04:50:38.534906",
     "exception": false,
     "start_time": "2021-03-21T04:50:38.491927",
     "status": "completed"
    },
    "tags": []
   },
   "source": [
    "不偷懒的方法:用左、右两个指针指向字符串的首、尾元素，若指针指向的元素相等，则将两个指针向中间移动，若左指针超过右指针，则为回文串\n"
   ]
  },
  {
   "cell_type": "code",
   "execution_count": 7,
   "metadata": {
    "execution": {
     "iopub.execute_input": "2021-03-21T04:50:38.630512Z",
     "iopub.status.busy": "2021-03-21T04:50:38.629505Z",
     "iopub.status.idle": "2021-03-21T04:50:38.632894Z",
     "shell.execute_reply": "2021-03-21T04:50:38.633325Z"
    },
    "papermill": {
     "duration": 0.054776,
     "end_time": "2021-03-21T04:50:38.633476",
     "exception": false,
     "start_time": "2021-03-21T04:50:38.578700",
     "status": "completed"
    },
    "tags": []
   },
   "outputs": [
    {
     "name": "stdout",
     "output_type": "stream",
     "text": [
      "True\n",
      "True\n"
     ]
    }
   ],
   "source": [
    "def isPalindrome(s):\n",
    "    s = s.replace(\" \",\"\")\n",
    "    left, right = 0, len(s) - 1\n",
    "    while left <= right:\n",
    "        if s[left] == s[right]:\n",
    "            left += 1\n",
    "            right -= 1\n",
    "        else:\n",
    "            break\n",
    "    return left > right\n",
    "\n",
    "s = \"nurses run\"\n",
    "print(isPalindrome(s))\n",
    "s = \"madam\"\n",
    "print(isPalindrome(s))"
   ]
  },
  {
   "cell_type": "markdown",
   "metadata": {
    "papermill": {
     "duration": 0.047613,
     "end_time": "2021-03-21T04:50:38.725125",
     "exception": false,
     "start_time": "2021-03-21T04:50:38.677512",
     "status": "completed"
    },
    "tags": []
   },
   "source": [
    "3.实现复数的虚部和实部分解\n",
    "\n",
    "使用np中的real和imag函数提取实部和虚部并分别放入两个数组中"
   ]
  },
  {
   "cell_type": "code",
   "execution_count": 8,
   "metadata": {
    "execution": {
     "iopub.execute_input": "2021-03-21T04:50:38.816750Z",
     "iopub.status.busy": "2021-03-21T04:50:38.816173Z",
     "iopub.status.idle": "2021-03-21T04:50:38.818914Z",
     "shell.execute_reply": "2021-03-21T04:50:38.818424Z"
    },
    "papermill": {
     "duration": 0.051123,
     "end_time": "2021-03-21T04:50:38.819065",
     "exception": false,
     "start_time": "2021-03-21T04:50:38.767942",
     "status": "completed"
    },
    "tags": []
   },
   "outputs": [],
   "source": [
    "def complexPartition(a):\n",
    "    re = np.real(a)\n",
    "    im = np.imag(a)\n",
    "    return [[re[i],im[i]] for i in range(len(a))]"
   ]
  },
  {
   "cell_type": "code",
   "execution_count": 9,
   "metadata": {
    "execution": {
     "iopub.execute_input": "2021-03-21T04:50:38.906734Z",
     "iopub.status.busy": "2021-03-21T04:50:38.906201Z",
     "iopub.status.idle": "2021-03-21T04:50:38.912511Z",
     "shell.execute_reply": "2021-03-21T04:50:38.911892Z"
    },
    "papermill": {
     "duration": 0.050778,
     "end_time": "2021-03-21T04:50:38.912685",
     "exception": false,
     "start_time": "2021-03-21T04:50:38.861907",
     "status": "completed"
    },
    "tags": []
   },
   "outputs": [
    {
     "name": "stdout",
     "output_type": "stream",
     "text": [
      "[[1.0, 0.0], [0.70710678, 0.70710678]]\n"
     ]
    }
   ],
   "source": [
    "a = np.array([1+0j, 0.70710678+0.70710678j])\n",
    "print(complexPartition(a))"
   ]
  },
  {
   "cell_type": "markdown",
   "metadata": {
    "papermill": {
     "duration": 0.042498,
     "end_time": "2021-03-21T04:50:38.998524",
     "exception": false,
     "start_time": "2021-03-21T04:50:38.956026",
     "status": "completed"
    },
    "tags": []
   },
   "source": [
    "4.实现2进制加法\n",
    "\n",
    "偷懒的方法：先将2进制数转换为10进制，进行10进制的加法后，使用bin函数转换为二进制表示"
   ]
  },
  {
   "cell_type": "code",
   "execution_count": 10,
   "metadata": {
    "execution": {
     "iopub.execute_input": "2021-03-21T04:50:39.091990Z",
     "iopub.status.busy": "2021-03-21T04:50:39.091344Z",
     "iopub.status.idle": "2021-03-21T04:50:39.094232Z",
     "shell.execute_reply": "2021-03-21T04:50:39.094938Z"
    },
    "papermill": {
     "duration": 0.053253,
     "end_time": "2021-03-21T04:50:39.095140",
     "exception": false,
     "start_time": "2021-03-21T04:50:39.041887",
     "status": "completed"
    },
    "tags": []
   },
   "outputs": [
    {
     "name": "stdout",
     "output_type": "stream",
     "text": [
      "100\n"
     ]
    }
   ],
   "source": [
    "def binaryAdd(x,y):\n",
    "    a = int(x,2)\n",
    "    b = int(y,2)\n",
    "    return bin(a + b)[2:]\n",
    "\n",
    "print(binaryAdd(\"11\",\"1\"))"
   ]
  },
  {
   "cell_type": "markdown",
   "metadata": {
    "papermill": {
     "duration": 0.044518,
     "end_time": "2021-03-21T04:50:39.185463",
     "exception": false,
     "start_time": "2021-03-21T04:50:39.140945",
     "status": "completed"
    },
    "tags": []
   },
   "source": [
    "不偷懒的方法：从低位到高位依次进行，用carry记录进位值，逐次相加"
   ]
  },
  {
   "cell_type": "code",
   "execution_count": 11,
   "metadata": {
    "execution": {
     "iopub.execute_input": "2021-03-21T04:50:39.278518Z",
     "iopub.status.busy": "2021-03-21T04:50:39.277830Z",
     "iopub.status.idle": "2021-03-21T04:50:39.287250Z",
     "shell.execute_reply": "2021-03-21T04:50:39.288139Z"
    },
    "papermill": {
     "duration": 0.058723,
     "end_time": "2021-03-21T04:50:39.288312",
     "exception": false,
     "start_time": "2021-03-21T04:50:39.229589",
     "status": "completed"
    },
    "tags": []
   },
   "outputs": [
    {
     "name": "stdout",
     "output_type": "stream",
     "text": [
      "100\n",
      "11\n"
     ]
    }
   ],
   "source": [
    "def binaryAdd(x,y):\n",
    "    if len(x) > len(y):\n",
    "        x,y = y,x\n",
    "    x = '0'*(len(y)-len(x)) + x   \n",
    "    \n",
    "    carry = 0\n",
    "    z = []\n",
    "    x = x[::-1]\n",
    "    y = y[::-1]\n",
    "    for i in range(len(x)):  \n",
    "        t = carry + int(x[i]) + int(y[i])\n",
    "        z.append(str(t%2))\n",
    "        carry = t//2         \n",
    "    if carry:\n",
    "        z.append(str(carry))\n",
    "    z.reverse()\n",
    "    return \"\".join(z)\n",
    "\n",
    "print(binaryAdd(\"11\",\"1\"))\n",
    "print(binaryAdd(\"10\",\"1\"))\n"
   ]
  },
  {
   "cell_type": "markdown",
   "metadata": {
    "papermill": {
     "duration": 0.042774,
     "end_time": "2021-03-21T04:50:39.376846",
     "exception": false,
     "start_time": "2021-03-21T04:50:39.334072",
     "status": "completed"
    },
    "tags": []
   },
   "source": [
    "5.实现链表加法\n",
    "\n",
    "偷懒的方法：定义LinkList类，并在成员函数中实现int和LinkList的相互转换，利用int的加法实现LinkList的加法"
   ]
  },
  {
   "cell_type": "code",
   "execution_count": 12,
   "metadata": {
    "execution": {
     "iopub.execute_input": "2021-03-21T04:50:39.480098Z",
     "iopub.status.busy": "2021-03-21T04:50:39.479302Z",
     "iopub.status.idle": "2021-03-21T04:50:39.482446Z",
     "shell.execute_reply": "2021-03-21T04:50:39.483173Z"
    },
    "papermill": {
     "duration": 0.061598,
     "end_time": "2021-03-21T04:50:39.483393",
     "exception": false,
     "start_time": "2021-03-21T04:50:39.421795",
     "status": "completed"
    },
    "tags": []
   },
   "outputs": [
    {
     "name": "stdout",
     "output_type": "stream",
     "text": [
      "7->0->8\n"
     ]
    }
   ],
   "source": [
    "class ListNode:\n",
    "    #定义类：链表的每个结点\n",
    "    def __init__(self,x):\n",
    "        self.val = x\n",
    "        self.next = None\n",
    "\n",
    "class Linklist:\n",
    "    #定义类：表示链表\n",
    "    def __init__(self,x): \n",
    "        #用int x初始化链表\n",
    "        self.data = x\n",
    "        a = list(str(x))\n",
    "        a = [int(y) for y in a] \n",
    "        self.head = ListNode(a[0])\n",
    "        for i in range(1,len(a)):\n",
    "            v = ListNode(a[i])\n",
    "            v.next = self.head\n",
    "            self.head = v\n",
    "            \n",
    "    def getData(self):\n",
    "        #获取链表表示的数值\n",
    "        return self.data\n",
    "    \n",
    "    def disp(self):\n",
    "        #输出链表\n",
    "        x = self.data\n",
    "        x = str(x)[::-1]\n",
    "        print(\"->\".join(x))\n",
    "\n",
    "def linkAdd(x,y): \n",
    "    #将链表x，y相加\n",
    "    a = x.getData()\n",
    "    b = y.getData()\n",
    "    return Linklist(a+b) \n",
    "\n",
    "def linkProcess(s):\n",
    "    #测试函数\n",
    "    s = s.replace(\" \",\"\")\n",
    "    s = s.replace(\"->\",\"\")\n",
    "    s1,s2 = s.split(\"+\")\n",
    "    s1 = s1[1:-1]\n",
    "    s2 = s2[1:-1]\n",
    "    \n",
    "    a = int(s1[::-1])\n",
    "    b = int(s2[::-1])\n",
    "    X = Linklist(a)\n",
    "    Y = Linklist(b)\n",
    "    Z = linkAdd(X,Y)\n",
    "    Z.disp()\n",
    "    \n",
    "s = \"(2->4->3) + (5->6->4)\"\n",
    "linkProcess(s)"
   ]
  },
  {
   "cell_type": "markdown",
   "metadata": {
    "papermill": {
     "duration": 0.045034,
     "end_time": "2021-03-21T04:50:39.575512",
     "exception": false,
     "start_time": "2021-03-21T04:50:39.530478",
     "status": "completed"
    },
    "tags": []
   },
   "source": [
    "不偷懒的方法：\n",
    "\n",
    "用str初始化链表\n",
    "\n",
    "实现链表加法时，用carry表示进位，用两个指针p，q同时遍历两个链表并逐元素相加并计算carry值\n"
   ]
  },
  {
   "cell_type": "code",
   "execution_count": 13,
   "metadata": {
    "execution": {
     "iopub.execute_input": "2021-03-21T04:50:39.682114Z",
     "iopub.status.busy": "2021-03-21T04:50:39.681273Z",
     "iopub.status.idle": "2021-03-21T04:50:39.684729Z",
     "shell.execute_reply": "2021-03-21T04:50:39.685401Z"
    },
    "papermill": {
     "duration": 0.064855,
     "end_time": "2021-03-21T04:50:39.685621",
     "exception": false,
     "start_time": "2021-03-21T04:50:39.620766",
     "status": "completed"
    },
    "tags": []
   },
   "outputs": [
    {
     "name": "stdout",
     "output_type": "stream",
     "text": [
      "7->0->8\n"
     ]
    }
   ],
   "source": [
    "class ListNode:\n",
    "    #定义类：链表的每个结点\n",
    "    def __init__(self,x):\n",
    "        self.val = x\n",
    "        self.next = None\n",
    "\n",
    "class Linklist:\n",
    "    #定义类：表示链表\n",
    "    def __init__(self,a): \n",
    "        #用str a初始化链表\n",
    "        a = [int(y) for y in a] \n",
    "        self.head = ListNode(a[0])\n",
    "        for i in range(1,len(a)):\n",
    "            v = ListNode(a[i])\n",
    "            v.next = self.head\n",
    "            self.head = v\n",
    "    \n",
    "    def disp(self):\n",
    "        #用指针p遍历输出链表\n",
    "        p = self.head\n",
    "        x = []\n",
    "        while p != None:\n",
    "            x.append(str(p.val))\n",
    "            p = p.next\n",
    "        print(\"->\".join(x[::-1]))\n",
    "        \n",
    "def linkAdd(x,y):\n",
    "    #输出链表z为链表x，y相加的结果\n",
    "    ans = []\n",
    "    carry = 0    \n",
    "    p, q = x.head, y.head\n",
    "   \n",
    "    while p is not None and q is not None:    \n",
    "        ans.append((p.val + q.val + carry) %10)\n",
    "        carry = (p.val + q.val + carry) // 10\n",
    "        p,q = p.next, q.next\n",
    "    while p is not None:                  \n",
    "        ans.append((p.val + carry) % 10)\n",
    "        carry = (p.val+carry)//10\n",
    "        p = p.next\n",
    "    while q is not None:                  \n",
    "        ans.append((q.val + carry) % 10)\n",
    "        carry = (q.val+carry)//10\n",
    "        q = q.next\n",
    "    if carry:                           \n",
    "        ans.append(carry)\n",
    "    return Linklist(ans)\n",
    "\n",
    "def linkProcess(s):\n",
    "    #测试函数\n",
    "    s = s.replace(\" \",\"\")\n",
    "    s = s.replace(\"->\",\"\")\n",
    "    s1,s2 = s.split(\"+\")\n",
    "    x = list(s1[1:-1])\n",
    "    y = list(s2[1:-1])\n",
    "    \n",
    "    X = Linklist(x)\n",
    "    Y = Linklist(y)\n",
    "    Z = linkAdd(X,Y)\n",
    "    Z.disp()\n",
    "    \n",
    "s = \"(2->4->3) + (5->6->4)\"\n",
    "linkProcess(s)\n"
   ]
  },
  {
   "cell_type": "markdown",
   "metadata": {
    "papermill": {
     "duration": 0.045733,
     "end_time": "2021-03-21T04:50:39.780188",
     "exception": false,
     "start_time": "2021-03-21T04:50:39.734455",
     "status": "completed"
    },
    "tags": []
   },
   "source": [
    "6.实现快速排序\n",
    "\n",
    "将a[0]作为key值，将小于key值的放入数组b，大于key值的放入数组c，再将b，key，c依次连接"
   ]
  },
  {
   "cell_type": "code",
   "execution_count": 14,
   "metadata": {
    "execution": {
     "iopub.execute_input": "2021-03-21T04:50:39.879874Z",
     "iopub.status.busy": "2021-03-21T04:50:39.879236Z",
     "iopub.status.idle": "2021-03-21T04:50:39.882400Z",
     "shell.execute_reply": "2021-03-21T04:50:39.881733Z"
    },
    "papermill": {
     "duration": 0.055618,
     "end_time": "2021-03-21T04:50:39.882580",
     "exception": false,
     "start_time": "2021-03-21T04:50:39.826962",
     "status": "completed"
    },
    "tags": []
   },
   "outputs": [],
   "source": [
    "def quickSort(a):\n",
    "    if len(a) < 2:\n",
    "        return a\n",
    "    key = a[0]\n",
    "    b = []\n",
    "    c = []\n",
    "    for i in range(1,len(a)):\n",
    "        if a[i] < key:\n",
    "            b.append(a[i])\n",
    "        else:\n",
    "            c.append(a[i])\n",
    "    b = quickSort(b)\n",
    "    c = quickSort(c)\n",
    "    return b + [key] + c"
   ]
  },
  {
   "cell_type": "code",
   "execution_count": 15,
   "metadata": {
    "execution": {
     "iopub.execute_input": "2021-03-21T04:50:39.979169Z",
     "iopub.status.busy": "2021-03-21T04:50:39.978218Z",
     "iopub.status.idle": "2021-03-21T04:50:39.984430Z",
     "shell.execute_reply": "2021-03-21T04:50:39.985113Z"
    },
    "papermill": {
     "duration": 0.056022,
     "end_time": "2021-03-21T04:50:39.985295",
     "exception": false,
     "start_time": "2021-03-21T04:50:39.929273",
     "status": "completed"
    },
    "tags": []
   },
   "outputs": [
    {
     "name": "stdout",
     "output_type": "stream",
     "text": [
      "[1, 2, 3, 4, 5, 6, 7, 8]\n"
     ]
    }
   ],
   "source": [
    "a = [7,6,5,1,4,2,8,3]\n",
    "print(quickSort(a))"
   ]
  },
  {
   "cell_type": "markdown",
   "metadata": {
    "papermill": {
     "duration": 0.04608,
     "end_time": "2021-03-21T04:50:40.077971",
     "exception": false,
     "start_time": "2021-03-21T04:50:40.031891",
     "status": "completed"
    },
    "tags": []
   },
   "source": [
    "7.实现希尔排序\n",
    "\n",
    "先实现对数组a基于增量d的插入排序，再将增量d依次减半实现希尔排序\n",
    "\n"
   ]
  },
  {
   "cell_type": "code",
   "execution_count": 16,
   "metadata": {
    "execution": {
     "iopub.execute_input": "2021-03-21T04:50:40.180771Z",
     "iopub.status.busy": "2021-03-21T04:50:40.179790Z",
     "iopub.status.idle": "2021-03-21T04:50:40.183044Z",
     "shell.execute_reply": "2021-03-21T04:50:40.182482Z"
    },
    "papermill": {
     "duration": 0.057342,
     "end_time": "2021-03-21T04:50:40.183189",
     "exception": false,
     "start_time": "2021-03-21T04:50:40.125847",
     "status": "completed"
    },
    "tags": []
   },
   "outputs": [],
   "source": [
    "def insertSort(a,d): \n",
    "    #输入数组a和增量d，实现分组的插入排序\n",
    "    n = len(a)\n",
    "    for i in range(d,n):\n",
    "        j = i\n",
    "        while j >= d and a[j] < a[j-d]:\n",
    "            a[j-d], a[j] = a[j], a[j-d]\n",
    "            j = j-d\n",
    "    return a\n",
    "    \n",
    "def shellSort(a):\n",
    "    #对a进行希尔排序\n",
    "    n = len(a)\n",
    "    d = n//2\n",
    "    while d > 0:\n",
    "        insertSort(a,d)\n",
    "        d = d//2\n",
    "    return a"
   ]
  },
  {
   "cell_type": "code",
   "execution_count": 17,
   "metadata": {
    "execution": {
     "iopub.execute_input": "2021-03-21T04:50:40.281773Z",
     "iopub.status.busy": "2021-03-21T04:50:40.280843Z",
     "iopub.status.idle": "2021-03-21T04:50:40.286523Z",
     "shell.execute_reply": "2021-03-21T04:50:40.287254Z"
    },
    "papermill": {
     "duration": 0.057264,
     "end_time": "2021-03-21T04:50:40.287474",
     "exception": false,
     "start_time": "2021-03-21T04:50:40.230210",
     "status": "completed"
    },
    "tags": []
   },
   "outputs": [
    {
     "name": "stdout",
     "output_type": "stream",
     "text": [
      "[1, 2, 3, 4, 5, 6, 7, 8]\n"
     ]
    }
   ],
   "source": [
    "a = [7,6,5,1,4,2,8,3]\n",
    "print(shellSort(a))"
   ]
  },
  {
   "cell_type": "markdown",
   "metadata": {
    "papermill": {
     "duration": 0.046324,
     "end_time": "2021-03-21T04:50:40.381386",
     "exception": false,
     "start_time": "2021-03-21T04:50:40.335062",
     "status": "completed"
    },
    "tags": []
   },
   "source": [
    "导入pytorch的相关模块"
   ]
  },
  {
   "cell_type": "code",
   "execution_count": 18,
   "metadata": {
    "execution": {
     "iopub.execute_input": "2021-03-21T04:50:40.480662Z",
     "iopub.status.busy": "2021-03-21T04:50:40.480020Z",
     "iopub.status.idle": "2021-03-21T04:50:40.481831Z",
     "shell.execute_reply": "2021-03-21T04:50:40.482370Z"
    },
    "papermill": {
     "duration": 0.053497,
     "end_time": "2021-03-21T04:50:40.482525",
     "exception": false,
     "start_time": "2021-03-21T04:50:40.429028",
     "status": "completed"
    },
    "tags": []
   },
   "outputs": [],
   "source": [
    "import torch\n",
    "import torch.nn as nn\n",
    "import torch.nn.functional as F\n",
    "import matplotlib.pyplot as plt"
   ]
  },
  {
   "cell_type": "markdown",
   "metadata": {
    "papermill": {
     "duration": 0.046238,
     "end_time": "2021-03-21T04:50:40.576117",
     "exception": false,
     "start_time": "2021-03-21T04:50:40.529879",
     "status": "completed"
    },
    "tags": []
   },
   "source": [
    "8.实现线性回归\n",
    "\n",
    "利用pytorch中的Linear函数，并用MSE损失作为损失函数，即可实现最小二乘线性回归\n"
   ]
  },
  {
   "cell_type": "code",
   "execution_count": 19,
   "metadata": {
    "execution": {
     "iopub.execute_input": "2021-03-21T04:50:40.671442Z",
     "iopub.status.busy": "2021-03-21T04:50:40.670803Z",
     "iopub.status.idle": "2021-03-21T04:50:40.926999Z",
     "shell.execute_reply": "2021-03-21T04:50:40.927410Z"
    },
    "papermill": {
     "duration": 0.305866,
     "end_time": "2021-03-21T04:50:40.927571",
     "exception": false,
     "start_time": "2021-03-21T04:50:40.621705",
     "status": "completed"
    },
    "tags": []
   },
   "outputs": [
    {
     "data": {
      "image/png": "[encoded data removed]",
      "text/plain": [
       "<Figure size 432x288 with 1 Axes>"
      ]
     },
     "metadata": {
      "needs_background": "light"
     },
     "output_type": "display_data"
    }
   ],
   "source": [
    "def generateData(a,b):\n",
    "    #输入a，b作为斜率和截距，生成加入噪声后的类线性关系数据\n",
    "    x = torch.linspace(1,10,100).unsqueeze(dim=1) #[100x1]\n",
    "    y = a * x + b + 5*torch.rand(x.shape)\n",
    "    return x,y\n",
    "\n",
    "x, y = generateData(4,9)\n",
    "plt.scatter(x.data,y.data)\n",
    "plt.show()"
   ]
  },
  {
   "cell_type": "code",
   "execution_count": 20,
   "metadata": {
    "execution": {
     "iopub.execute_input": "2021-03-21T04:50:41.026888Z",
     "iopub.status.busy": "2021-03-21T04:50:41.026228Z",
     "iopub.status.idle": "2021-03-21T04:50:42.700369Z",
     "shell.execute_reply": "2021-03-21T04:50:42.700874Z"
    },
    "papermill": {
     "duration": 1.725663,
     "end_time": "2021-03-21T04:50:42.701054",
     "exception": false,
     "start_time": "2021-03-21T04:50:40.975391",
     "status": "completed"
    },
    "tags": []
   },
   "outputs": [
    {
     "name": "stdout",
     "output_type": "stream",
     "text": [
      "epoch:0, loss:1608.285888671875\n",
      "epoch:500, loss:2.5756185054779053\n",
      "epoch:1000, loss:2.022087335586548\n",
      "epoch:1500, loss:2.007488489151001\n",
      "epoch:2000, loss:2.0071027278900146\n",
      "epoch:2500, loss:2.0070924758911133\n",
      "epoch:3000, loss:2.007092237472534\n",
      "epoch:3500, loss:2.007091760635376\n",
      "epoch:4000, loss:2.007091760635376\n",
      "epoch:4500, loss:2.007091760635376\n",
      "Parameter containing:\n",
      "tensor([[4.0022]], requires_grad=True)\n",
      "Parameter containing:\n",
      "tensor([11.2295], requires_grad=True)\n"
     ]
    },
    {
     "data": {
      "image/png": "[encoded data removed]",
      "text/plain": [
       "<Figure size 432x288 with 1 Axes>"
      ]
     },
     "metadata": {
      "needs_background": "light"
     },
     "output_type": "display_data"
    }
   ],
   "source": [
    "class LinearRegression():\n",
    "    #定义线性回归模型\n",
    "    def __init__(self):\n",
    "        super().__init__()\n",
    "        self.learning_rate = 0.01\n",
    "        self.epoch = 5000\n",
    "        self.criterion = torch.nn.MSELoss() \n",
    "        self.model = torch.nn.Linear(1,1)\n",
    "        self.optimizer = torch.optim.SGD(self.model.parameters(), lr=self.learning_rate) \n",
    "        \n",
    "    def train(self,x,y):\n",
    "        #输入数据x和标签y进行训练\n",
    "        for e in range(self.epoch):\n",
    "            pred = self.model(x)\n",
    "            loss = self.criterion(pred,y)\n",
    "            \n",
    "            self.optimizer.zero_grad()\n",
    "            loss.backward()\n",
    "            self.optimizer.step()\n",
    "            \n",
    "            if e % 500 == 0:\n",
    "                print(\"epoch:{}, loss:{}\".format(e, loss.data))\n",
    "    \n",
    "        \n",
    "    def test(self,x,y):\n",
    "        #测试，不需要计算梯度\n",
    "        with torch.no_grad():\n",
    "            pred = self.model(x)\n",
    "        return pred \n",
    "\n",
    "LR = LinearRegression()\n",
    "LR.train(x,y)\n",
    "    \n",
    "pred = LR.test(x,y)\n",
    "for p in LR.model.parameters():\n",
    "    print(p)\n",
    "plt.scatter(x.data, y.data)\n",
    "plt.plot(x.data, pred.data,color=\"r\")\n",
    "plt.show()"
   ]
  },
  {
   "cell_type": "markdown",
   "metadata": {
    "papermill": {
     "duration": 0.049985,
     "end_time": "2021-03-21T04:50:42.801065",
     "exception": false,
     "start_time": "2021-03-21T04:50:42.751080",
     "status": "completed"
    },
    "tags": []
   },
   "source": [
    "可见输出的参数和原始输入的斜率和截距相近，从图中也可以直观看出回归的效果\n",
    "\n",
    "开始将学习率设置为0.1发现回归效果很差，输出loss后发现loss为nan，发现是因为学习率过大导致无法收敛，甚至loss不断上升，将学习率设置为0.01后解决问题"
   ]
  },
  {
   "cell_type": "markdown",
   "metadata": {
    "papermill": {
     "duration": 0.050367,
     "end_time": "2021-03-21T04:50:42.899609",
     "exception": false,
     "start_time": "2021-03-21T04:50:42.849242",
     "status": "completed"
    },
    "tags": []
   },
   "source": [
    "9. 实现逻辑斯特回归模型\n",
    "\n",
    "先随机生成数据点，再用反比例函数将数据非线性地分为两部分\n",
    "\n",
    "在利用pytorch构建模型，利用sigmod函数加线性层实现逻辑斯特回归，损失函数采用BCELoss\n",
    "\n",
    "在自构造的数据上测试逻辑斯特回归进行非线性二分类的效果"
   ]
  },
  {
   "cell_type": "code",
   "execution_count": 21,
   "metadata": {
    "execution": {
     "iopub.execute_input": "2021-03-21T04:50:43.008408Z",
     "iopub.status.busy": "2021-03-21T04:50:43.007744Z",
     "iopub.status.idle": "2021-03-21T04:50:44.204811Z",
     "shell.execute_reply": "2021-03-21T04:50:44.205357Z"
    },
    "papermill": {
     "duration": 1.255716,
     "end_time": "2021-03-21T04:50:44.205535",
     "exception": false,
     "start_time": "2021-03-21T04:50:42.949819",
     "status": "completed"
    },
    "tags": []
   },
   "outputs": [
    {
     "data": {
      "image/png": "[encoded data removed]",
      "text/plain": [
       "<Figure size 432x288 with 1 Axes>"
      ]
     },
     "metadata": {
      "needs_background": "light"
     },
     "output_type": "display_data"
    }
   ],
   "source": [
    "def generateData(a):\n",
    "    #输入参数a，生成数据\n",
    "    x = 5 + 5 * torch.rand(100,2)\n",
    "    y = x[:,0] * x[:,1] - a\n",
    "    y = torch.gt(y,0).unsqueeze(dim=1).float()\n",
    "    return x,y\n",
    "\n",
    "a = 50\n",
    "x,y = generateData(a)\n",
    "for i in range(100):\n",
    "    if y.data[i,0] > 0 :\n",
    "        plt.scatter(x.data[i,0],x.data[i,1],color=\"r\")\n",
    "    else:\n",
    "        plt.scatter(x.data[i,0],x.data[i,1],color=\"b\")\n",
    "\n",
    "lx = torch.linspace(5,10,100)\n",
    "ly = a / lx\n",
    "plt.plot(lx.data,ly.data)\n",
    "plt.show()"
   ]
  },
  {
   "cell_type": "code",
   "execution_count": 22,
   "metadata": {
    "execution": {
     "iopub.execute_input": "2021-03-21T04:50:44.326010Z",
     "iopub.status.busy": "2021-03-21T04:50:44.324570Z",
     "iopub.status.idle": "2021-03-21T04:50:47.180004Z",
     "shell.execute_reply": "2021-03-21T04:50:47.180496Z"
    },
    "papermill": {
     "duration": 2.922193,
     "end_time": "2021-03-21T04:50:47.180672",
     "exception": false,
     "start_time": "2021-03-21T04:50:44.258479",
     "status": "completed"
    },
    "tags": []
   },
   "outputs": [
    {
     "name": "stdout",
     "output_type": "stream",
     "text": [
      "epoch:0, loss:0.8264085650444031\n",
      "epoch:500, loss:0.5730007290840149\n",
      "epoch:1000, loss:0.5636593103408813\n",
      "epoch:1500, loss:0.5547546148300171\n",
      "epoch:2000, loss:0.546144962310791\n",
      "epoch:2500, loss:0.5378190875053406\n",
      "epoch:3000, loss:0.5297670960426331\n",
      "epoch:3500, loss:0.521979033946991\n",
      "epoch:4000, loss:0.5144453644752502\n",
      "epoch:4500, loss:0.5071566104888916\n"
     ]
    },
    {
     "name": "stderr",
     "output_type": "stream",
     "text": [
      "/opt/conda/lib/python3.7/site-packages/ipykernel_launcher.py:44: UserWarning: Not providing a value for linspace's steps is deprecated and will throw a runtime error in a future release. This warning will appear only once per process. (Triggered internally at  /opt/conda/conda-bld/pytorch_1603729141890/work/aten/src/ATen/native/RangeFactories.cpp:23.)\n"
     ]
    },
    {
     "data": {
      "image/png": "[encoded data removed]",
      "text/plain": [
       "<Figure size 432x288 with 1 Axes>"
      ]
     },
     "metadata": {
      "needs_background": "light"
     },
     "output_type": "display_data"
    }
   ],
   "source": [
    "class LogisticModel(torch.nn.Module):\n",
    "    #逻辑斯特模型，定义前向传播\n",
    "    def __init__(self):\n",
    "        super().__init__()\n",
    "        self.linear = torch.nn.Linear(2,1)\n",
    "    def forward(self,x):\n",
    "        return torch.sigmoid(self.linear(x))\n",
    "    \n",
    "class LogisticRegression():\n",
    "    #整个逻辑斯特回归模型\n",
    "    def __init__(self):\n",
    "        super().__init__()\n",
    "        self.learning_rate = 0.01\n",
    "        self.epoch = 5000\n",
    "        self.model = LogisticModel()\n",
    "        self.criterion = torch.nn.BCELoss()\n",
    "        self.optimizer = torch.optim.SGD(self.model.parameters(), lr=self.learning_rate) \n",
    "       \n",
    "    def train(self,x,y):\n",
    "        for e in range(self.epoch):\n",
    "            pred = self.model(x)\n",
    "            loss = self.criterion(pred,y)\n",
    "            self.optimizer.zero_grad()\n",
    "            loss.backward()\n",
    "            self.optimizer.step()\n",
    "            \n",
    "            if e % 500 == 0:\n",
    "                print(\"epoch:{}, loss:{}\".format(e, loss.data))\n",
    "    \n",
    "        \n",
    "    def test(self,x,y):\n",
    "        with torch.no_grad():\n",
    "            pred = self.model(x)\n",
    "        return pred \n",
    "\n",
    "LR = LogisticRegression()\n",
    "LR.train(x,y)\n",
    "pred = LR.test(x,y)\n",
    "for i in range(100):\n",
    "    if y.data[i,0] > 0.5 :\n",
    "        plt.scatter(x.data[i,0],x.data[i,1],color=\"r\")\n",
    "    else:\n",
    "        plt.scatter(x.data[i,0],x.data[i,1],color=\"b\")\n",
    "lx = torch.linspace(5,10)\n",
    "ly = a / lx\n",
    "plt.plot(lx.data,ly.data)\n",
    "plt.show()"
   ]
  },
  {
   "cell_type": "markdown",
   "metadata": {
    "papermill": {
     "duration": 0.054993,
     "end_time": "2021-03-21T04:50:47.291066",
     "exception": false,
     "start_time": "2021-03-21T04:50:47.236073",
     "status": "completed"
    },
    "tags": []
   },
   "source": [
    "可见，逻辑斯特在非线性分类上的效果很好"
   ]
  },
  {
   "cell_type": "markdown",
   "metadata": {
    "papermill": {
     "duration": 0.053287,
     "end_time": "2021-03-21T04:50:47.398573",
     "exception": false,
     "start_time": "2021-03-21T04:50:47.345286",
     "status": "completed"
    },
    "tags": []
   },
   "source": [
    "10. 实现SVM分类器\n",
    "\n",
    "通过线性层，损失函数定义为hinge loss即可\n",
    "\n"
   ]
  },
  {
   "cell_type": "code",
   "execution_count": 23,
   "metadata": {
    "execution": {
     "iopub.execute_input": "2021-03-21T04:50:47.508876Z",
     "iopub.status.busy": "2021-03-21T04:50:47.508255Z",
     "iopub.status.idle": "2021-03-21T04:50:48.643748Z",
     "shell.execute_reply": "2021-03-21T04:50:48.643087Z"
    },
    "papermill": {
     "duration": 1.191987,
     "end_time": "2021-03-21T04:50:48.643910",
     "exception": false,
     "start_time": "2021-03-21T04:50:47.451923",
     "status": "completed"
    },
    "tags": []
   },
   "outputs": [
    {
     "data": {
      "image/png": "[encoded data removed]",
      "text/plain": [
       "<Figure size 432x288 with 1 Axes>"
      ]
     },
     "metadata": {
      "needs_background": "light"
     },
     "output_type": "display_data"
    }
   ],
   "source": [
    "def generateData(w,a):\n",
    "    #输入参数w，a，输出由该参数定义的超平面分离的数据\n",
    "    x = 10 * torch.rand(100,2)\n",
    "    y = torch.mm(x,w.t())+a\n",
    "    return x,y\n",
    "\n",
    "w = torch.Tensor([[9,8]])\n",
    "a = -72\n",
    "x,y = generateData(w,a)\n",
    "for i in range(100):\n",
    "    if y.data[i,0] > 0:\n",
    "        plt.scatter(x.data[i,0],x.data[i,1],color=\"r\")\n",
    "    else:\n",
    "        plt.scatter(x.data[i,0],x.data[i,1],color=\"b\")\n",
    "\n",
    "lx = torch.linspace(0,10,100)\n",
    "ly = 9 - 9/8 * lx # 9*x + 8*y = 72\n",
    "plt.plot(lx.data,ly.data)\n",
    "plt.show()"
   ]
  },
  {
   "cell_type": "code",
   "execution_count": 24,
   "metadata": {
    "execution": {
     "iopub.execute_input": "2021-03-21T04:50:48.777309Z",
     "iopub.status.busy": "2021-03-21T04:50:48.776513Z",
     "iopub.status.idle": "2021-03-21T04:50:52.305486Z",
     "shell.execute_reply": "2021-03-21T04:50:52.304942Z"
    },
    "papermill": {
     "duration": 3.603729,
     "end_time": "2021-03-21T04:50:52.305624",
     "exception": false,
     "start_time": "2021-03-21T04:50:48.701895",
     "status": "completed"
    },
    "tags": []
   },
   "outputs": [
    {
     "name": "stdout",
     "output_type": "stream",
     "text": [
      "epoch:0, loss:0.7167167067527771\n",
      "epoch:500, loss:0.12649410963058472\n",
      "epoch:1000, loss:0.09675726294517517\n",
      "epoch:1500, loss:0.0855247750878334\n",
      "epoch:2000, loss:0.07653859257698059\n",
      "epoch:2500, loss:0.07069839537143707\n",
      "epoch:3000, loss:0.06672018766403198\n",
      "epoch:3500, loss:0.0637567788362503\n",
      "epoch:4000, loss:0.06337546557188034\n",
      "epoch:4500, loss:0.06177058070898056\n",
      "tensor([[1.5897, 1.4460]])\n",
      "tensor([-12.5608])\n"
     ]
    },
    {
     "data": {
      "image/png": "[encoded data removed]",
      "text/plain": [
       "<Figure size 432x288 with 1 Axes>"
      ]
     },
     "metadata": {
      "needs_background": "light"
     },
     "output_type": "display_data"
    }
   ],
   "source": [
    "class HingeLoss(torch.nn.Module):\n",
    "    #继承torch.nn.Module实现HingeLoss\n",
    "    def __init__(self):\n",
    "        super().__init__()\n",
    "        \n",
    "    def forward(self,x,y): \n",
    "        loss = 1 - x * torch.sign(y)\n",
    "        loss[loss<0] = 0\n",
    "        return torch.mean(loss)\n",
    "    \n",
    "class SVMClassifier():\n",
    "    def __init__(self):\n",
    "        super().__init__()\n",
    "        self.learning_rate = 0.2\n",
    "        self.epoch = 5000\n",
    "        self.model = torch.nn.Linear(2,1)\n",
    "        self.criterion = HingeLoss() #使用HingeLoss作为损失函数\n",
    "        self.optimizer = torch.optim.SGD(self.model.parameters(), lr=self.learning_rate) \n",
    "        \n",
    "    def train(self,x,y):\n",
    "        for e in range(self.epoch):\n",
    "            pred = self.model(x)\n",
    "            loss = self.criterion(pred,y)\n",
    "            self.optimizer.zero_grad()\n",
    "            loss.backward()\n",
    "            self.optimizer.step()\n",
    "            \n",
    "            if e % 500 == 0:\n",
    "                print(\"epoch:{}, loss:{}\".format(e, loss.data))\n",
    "    \n",
    "        \n",
    "    def test(self,x,y):\n",
    "        with torch.no_grad():\n",
    "            pred = self.model(x)\n",
    "        return pred \n",
    "    \n",
    "SVM = SVMClassifier()\n",
    "SVM.train(x,y) \n",
    "pred = SVM.test(x,y)\n",
    "for p in SVM.model.parameters():\n",
    "    print(p.data)\n",
    "\n",
    "for i in range(100):\n",
    "    if pred.data[i,0] > 0:\n",
    "        plt.scatter(x.data[i,0],x.data[i,1],color=\"r\")\n",
    "    else:\n",
    "        plt.scatter(x.data[i,0],x.data[i,1],color=\"b\")\n",
    "lx = torch.linspace(0,10,100)\n",
    "ly = 9 - 9/8 * lx # 9*x + 8*y = 72\n",
    "plt.plot(lx.data,ly.data)\n",
    "plt.show()\n"
   ]
  },
  {
   "cell_type": "markdown",
   "metadata": {
    "papermill": {
     "duration": 0.061714,
     "end_time": "2021-03-21T04:50:52.430302",
     "exception": false,
     "start_time": "2021-03-21T04:50:52.368588",
     "status": "completed"
    },
    "tags": []
   },
   "source": [
    "开始设置学习率为0.01时分类效果不是很好，发现是因为收敛过慢，将学习率设置为0.2后收敛速度加快，分类效果显著提升。\n",
    "\n",
    "对比之前的模型，发现相同的学习率会导致不同的效果，说明学习率是和模型相关的超参数"
   ]
  },
  {
   "cell_type": "markdown",
   "metadata": {
    "papermill": {
     "duration": 0.060108,
     "end_time": "2021-03-21T04:50:52.552062",
     "exception": false,
     "start_time": "2021-03-21T04:50:52.491954",
     "status": "completed"
    },
    "tags": []
   },
   "source": [
    "11. 在SVM分类器中加入范数惩罚"
   ]
  },
  {
   "cell_type": "markdown",
   "metadata": {
    "papermill": {
     "duration": 0.059963,
     "end_time": "2021-03-21T04:50:52.670670",
     "exception": false,
     "start_time": "2021-03-21T04:50:52.610707",
     "status": "completed"
    },
    "tags": []
   },
   "source": [
    "第1、2种方法：在损失函数中加入对权重的范数惩罚penalty，由于权重为向量，2范数惩罚与fro范数惩罚等价\n",
    "\n",
    "第1种方法：继承torch.nn.Module实现Penalty函数并将其加入损失函数中"
   ]
  },
  {
   "cell_type": "code",
   "execution_count": 25,
   "metadata": {
    "execution": {
     "iopub.execute_input": "2021-03-21T04:50:52.807745Z",
     "iopub.status.busy": "2021-03-21T04:50:52.807045Z",
     "iopub.status.idle": "2021-03-21T04:50:56.738131Z",
     "shell.execute_reply": "2021-03-21T04:50:56.737458Z"
    },
    "papermill": {
     "duration": 4.007671,
     "end_time": "2021-03-21T04:50:56.738272",
     "exception": false,
     "start_time": "2021-03-21T04:50:52.730601",
     "status": "completed"
    },
    "tags": []
   },
   "outputs": [
    {
     "name": "stdout",
     "output_type": "stream",
     "text": [
      "epoch:0, loss:2.634288787841797\n",
      "epoch:500, loss:1.1164671182632446\n",
      "epoch:1000, loss:1.3778964281082153\n",
      "epoch:1500, loss:1.5235813856124878\n",
      "epoch:2000, loss:1.6649339199066162\n",
      "epoch:2500, loss:1.7864655256271362\n",
      "epoch:3000, loss:1.8855408430099487\n",
      "epoch:3500, loss:1.985491394996643\n",
      "epoch:4000, loss:2.078014373779297\n",
      "epoch:4500, loss:2.142245292663574\n",
      "tensor([[1.5958, 1.4531]])\n",
      "tensor([-12.5636])\n"
     ]
    },
    {
     "data": {
      "image/png": "[encoded data removed]",
      "text/plain": [
       "<Figure size 432x288 with 1 Axes>"
      ]
     },
     "metadata": {
      "needs_background": "light"
     },
     "output_type": "display_data"
    }
   ],
   "source": [
    "class Penalty(torch.nn.Module):\n",
    "    #计算权重的范数惩罚 \n",
    "    def __init__(self):\n",
    "        super().__init__()\n",
    "        \n",
    "    def forward(self,x):\n",
    "        penal = 0\n",
    "        for name, param in x.named_parameters():\n",
    "            if name == \"weight\":\n",
    "                penal += torch.norm(param.data)\n",
    "        return penal\n",
    "    \n",
    "class ModifiedSVMClassifier():\n",
    "    def __init__(self):\n",
    "        super().__init__()\n",
    "        self.learning_rate = 0.2\n",
    "        self.epoch = 5000\n",
    "        self.model = torch.nn.Linear(2,1)\n",
    "        self.criterion = HingeLoss()\n",
    "        self.optimizer = torch.optim.SGD(self.model.parameters(), lr=self.learning_rate) \n",
    "        self.penalty = Penalty()\n",
    "    \n",
    "    def train(self,x,y):\n",
    "        for e in range(self.epoch):\n",
    "            pred = self.model(x)\n",
    "            loss = self.criterion(pred,y)  + self.penalty(self.model)\n",
    "            self.optimizer.zero_grad()\n",
    "            loss.backward()\n",
    "            self.optimizer.step()\n",
    "            \n",
    "            if e % 500 == 0:\n",
    "                print(\"epoch:{}, loss:{}\".format(e, loss.data))\n",
    "        \n",
    "    def test(self,x,y):\n",
    "        with torch.no_grad():\n",
    "            pred = self.model(x)\n",
    "        return pred \n",
    "    \n",
    "SVM = ModifiedSVMClassifier()\n",
    "SVM.train(x,y) \n",
    "pred = SVM.test(x,y)\n",
    "for p in SVM.model.parameters():\n",
    "    print(p.data)\n",
    "\n",
    "for i in range(100):\n",
    "    if pred.data[i,0] > 0:\n",
    "        plt.scatter(x.data[i,0],x.data[i,1],color=\"r\")\n",
    "    else:\n",
    "        plt.scatter(x.data[i,0],x.data[i,1],color=\"b\")\n",
    "        \n",
    "lx = torch.linspace(0,10)\n",
    "ly = 9 - 9/8 * lx # 9*x + 8*y = 72\n",
    "plt.plot(lx.data,ly.data)\n",
    "plt.show()\n",
    "   "
   ]
  },
  {
   "cell_type": "markdown",
   "metadata": {
    "papermill": {
     "duration": 0.061738,
     "end_time": "2021-03-21T04:50:56.864153",
     "exception": false,
     "start_time": "2021-03-21T04:50:56.802415",
     "status": "completed"
    },
    "tags": []
   },
   "source": [
    "第2种方法：使用pytorch中的norm函数，其默认为2范数"
   ]
  },
  {
   "cell_type": "code",
   "execution_count": 26,
   "metadata": {
    "execution": {
     "iopub.execute_input": "2021-03-21T04:50:57.003525Z",
     "iopub.status.busy": "2021-03-21T04:50:57.002468Z",
     "iopub.status.idle": "2021-03-21T04:51:00.921152Z",
     "shell.execute_reply": "2021-03-21T04:51:00.920497Z"
    },
    "papermill": {
     "duration": 3.995185,
     "end_time": "2021-03-21T04:51:00.921321",
     "exception": false,
     "start_time": "2021-03-21T04:50:56.926136",
     "status": "completed"
    },
    "tags": []
   },
   "outputs": [
    {
     "name": "stdout",
     "output_type": "stream",
     "text": [
      "epoch:0, loss:3.6439969539642334\n",
      "epoch:500, loss:1.1599202156066895\n",
      "epoch:1000, loss:1.3379634618759155\n",
      "epoch:1500, loss:1.504439115524292\n",
      "epoch:2000, loss:1.6679918766021729\n",
      "epoch:2500, loss:1.7897619009017944\n",
      "epoch:3000, loss:1.902674913406372\n",
      "epoch:3500, loss:1.9737262725830078\n",
      "epoch:4000, loss:2.077256441116333\n",
      "epoch:4500, loss:2.1332778930664062\n",
      "tensor([[1.5865, 1.4337]])\n",
      "tensor([-12.5442])\n"
     ]
    },
    {
     "data": {
      "image/png": "[encoded data removed]",
      "text/plain": [
       "<Figure size 432x288 with 1 Axes>"
      ]
     },
     "metadata": {
      "needs_background": "light"
     },
     "output_type": "display_data"
    }
   ],
   "source": [
    "class ModifiedSVMClassifier():\n",
    "    def __init__(self):\n",
    "        super().__init__()\n",
    "        self.learning_rate = 0.2\n",
    "        self.epoch = 5000\n",
    "        self.model = torch.nn.Linear(2,1)\n",
    "        self.criterion = HingeLoss()\n",
    "        self.optimizer = torch.optim.SGD(self.model.parameters(), lr=self.learning_rate) \n",
    "        \n",
    "    def penalty(self):\n",
    "        #计算权重的范数惩罚\n",
    "        penal = 0\n",
    "        for name, param in self.model.named_parameters():\n",
    "            if name == \"weight\":\n",
    "                penal += torch.norm(param.data)\n",
    "        return penal\n",
    "    \n",
    "    def train(self,x,y):\n",
    "        for e in range(self.epoch):\n",
    "            pred = self.model(x)\n",
    "            loss = self.criterion(pred,y)  + self.penalty()\n",
    "            self.optimizer.zero_grad()\n",
    "            loss.backward()\n",
    "            self.optimizer.step()\n",
    "            \n",
    "            if e % 500 == 0:\n",
    "                print(\"epoch:{}, loss:{}\".format(e, loss.data))\n",
    "        \n",
    "    def test(self,x,y):\n",
    "        with torch.no_grad():\n",
    "            pred = self.model(x)\n",
    "        return pred \n",
    "    \n",
    "SVM = ModifiedSVMClassifier()\n",
    "SVM.train(x,y) \n",
    "pred = SVM.test(x,y)\n",
    "for p in SVM.model.parameters():\n",
    "    print(p.data)\n",
    "\n",
    "for i in range(100):\n",
    "    if pred.data[i,0] > 0:\n",
    "        plt.scatter(x.data[i,0],x.data[i,1],color=\"r\")\n",
    "    else:\n",
    "        plt.scatter(x.data[i,0],x.data[i,1],color=\"b\")\n",
    "        \n",
    "lx = torch.linspace(0,10)\n",
    "ly = 9 - 9/8 * lx # 9*x + 8*y = 72\n",
    "plt.plot(lx.data,ly.data)\n",
    "plt.show()\n",
    "   "
   ]
  },
  {
   "cell_type": "markdown",
   "metadata": {
    "papermill": {
     "duration": 0.069627,
     "end_time": "2021-03-21T04:51:01.058216",
     "exception": false,
     "start_time": "2021-03-21T04:51:00.988589",
     "status": "completed"
    },
    "tags": []
   },
   "source": [
    "可见，用两种方法实现的范数惩罚，训练后具有极其相近的参数，证明实现方法的等价性"
   ]
  },
  {
   "cell_type": "markdown",
   "metadata": {
    "papermill": {
     "duration": 0.068763,
     "end_time": "2021-03-21T04:51:01.197531",
     "exception": false,
     "start_time": "2021-03-21T04:51:01.128768",
     "status": "completed"
    },
    "tags": []
   },
   "source": [
    "第3种方法：使用pytorch优化器自带的权重衰减\n",
    "\n",
    "由于权重衰减在一定程度上等价于L2正则化，故可以用权重衰减来实现2范数惩罚"
   ]
  },
  {
   "cell_type": "code",
   "execution_count": 27,
   "metadata": {
    "execution": {
     "iopub.execute_input": "2021-03-21T04:51:01.469377Z",
     "iopub.status.busy": "2021-03-21T04:51:01.460652Z",
     "iopub.status.idle": "2021-03-21T04:51:05.043198Z",
     "shell.execute_reply": "2021-03-21T04:51:05.042509Z"
    },
    "papermill": {
     "duration": 3.776445,
     "end_time": "2021-03-21T04:51:05.043368",
     "exception": false,
     "start_time": "2021-03-21T04:51:01.266923",
     "status": "completed"
    },
    "tags": []
   },
   "outputs": [
    {
     "name": "stdout",
     "output_type": "stream",
     "text": [
      "epoch:0, loss:2.0179760456085205\n",
      "epoch:500, loss:0.12116285413503647\n",
      "epoch:1000, loss:0.11862686276435852\n",
      "epoch:1500, loss:0.10191667824983597\n",
      "epoch:2000, loss:0.09827490150928497\n",
      "epoch:2500, loss:0.09502292424440384\n",
      "epoch:3000, loss:0.09590846300125122\n",
      "epoch:3500, loss:0.10012320429086685\n",
      "epoch:4000, loss:0.09427592903375626\n",
      "epoch:4500, loss:0.09176897257566452\n",
      "tensor([[0.9345, 0.9351]])\n",
      "tensor([-7.8564])\n"
     ]
    },
    {
     "data": {
      "image/png": "[encoded data removed]",
      "text/plain": [
       "<Figure size 432x288 with 1 Axes>"
      ]
     },
     "metadata": {
      "needs_background": "light"
     },
     "output_type": "display_data"
    }
   ],
   "source": [
    "class ModifiedSVMClassifier():\n",
    "    def __init__(self):\n",
    "        super().__init__()\n",
    "        self.learning_rate = 0.2\n",
    "        self.decay = 0.05\n",
    "        self.epoch = 5000\n",
    "        self.model = torch.nn.Linear(2,1)\n",
    "        self.criterion = HingeLoss()\n",
    "        self.optimizer_w = torch.optim.SGD(params=[self.model.weight], lr=self.learning_rate, weight_decay=self.decay) \n",
    "        self.optimizer_b = torch.optim.SGD(params=[self.model.bias], lr=self.learning_rate)\n",
    "    \n",
    "    def train(self,x,y):\n",
    "        for e in range(self.epoch):\n",
    "            pred = self.model(x)\n",
    "            loss = self.criterion(pred,y) \n",
    "            \n",
    "            self.optimizer_w.zero_grad()\n",
    "            self.optimizer_b.zero_grad()\n",
    "            loss.backward()\n",
    "            self.optimizer_w.step()\n",
    "            self.optimizer_b.step()\n",
    "            \n",
    "            if e % 500 == 0:\n",
    "                print(\"epoch:{}, loss:{}\".format(e, loss.data))\n",
    "        \n",
    "    def test(self,x,y):\n",
    "        with torch.no_grad():\n",
    "            pred = self.model(x)\n",
    "        return pred \n",
    "    \n",
    "SVM = ModifiedSVMClassifier()\n",
    "SVM.train(x,y) \n",
    "pred = SVM.test(x,y)\n",
    "for p in SVM.model.parameters():\n",
    "    print(p.data)\n",
    "\n",
    "for i in range(100):\n",
    "    if pred.data[i,0] > 0:\n",
    "        plt.scatter(x.data[i,0],x.data[i,1],color=\"r\")\n",
    "    else:\n",
    "        plt.scatter(x.data[i,0],x.data[i,1],color=\"b\")\n",
    "        \n",
    "lx = torch.linspace(0,10)\n",
    "ly = 9 - 9/8 * lx # 9*x + 8*y = 72\n",
    "plt.plot(lx.data,ly.data)\n",
    "plt.show()\n",
    "   "
   ]
  },
  {
   "cell_type": "markdown",
   "metadata": {
    "papermill": {
     "duration": 0.072993,
     "end_time": "2021-03-21T04:51:05.190941",
     "exception": false,
     "start_time": "2021-03-21T04:51:05.117948",
     "status": "completed"
    },
    "tags": []
   },
   "source": [
    "导入视觉相关库"
   ]
  },
  {
   "cell_type": "code",
   "execution_count": 28,
   "metadata": {
    "execution": {
     "iopub.execute_input": "2021-03-21T04:51:05.342487Z",
     "iopub.status.busy": "2021-03-21T04:51:05.341790Z",
     "iopub.status.idle": "2021-03-21T04:51:05.677587Z",
     "shell.execute_reply": "2021-03-21T04:51:05.677000Z"
    },
    "papermill": {
     "duration": 0.413185,
     "end_time": "2021-03-21T04:51:05.677725",
     "exception": false,
     "start_time": "2021-03-21T04:51:05.264540",
     "status": "completed"
    },
    "tags": []
   },
   "outputs": [],
   "source": [
    "import cv2\n",
    "from torch.utils.data import DataLoader\n",
    "from torchvision import transforms, datasets\n",
    "import torch\n",
    "import numpy as np\n",
    "import matplotlib.pyplot as plt \n",
    "import os, pickle\n",
    "from PIL import Image"
   ]
  },
  {
   "cell_type": "markdown",
   "metadata": {
    "papermill": {
     "duration": 0.072693,
     "end_time": "2021-03-21T04:51:05.822482",
     "exception": false,
     "start_time": "2021-03-21T04:51:05.749789",
     "status": "completed"
    },
    "tags": []
   },
   "source": [
    "12. 下载CIFAR-10并可视化其中的图片\n",
    "\n",
    "13. 自构建数据集\n",
    "\n",
    "添加kaggle中的cifar10-python数据集\n",
    "\n",
    "自构建的myDataset数据集继承自Dataset类，重载__len__和__getitem__两个成员函数\n",
    "\n",
    "使用test_batch作为数据读取示例，并显示读取的第一张图片\n"
   ]
  },
  {
   "cell_type": "code",
   "execution_count": 29,
   "metadata": {
    "execution": {
     "iopub.execute_input": "2021-03-21T04:51:05.980511Z",
     "iopub.status.busy": "2021-03-21T04:51:05.979729Z",
     "iopub.status.idle": "2021-03-21T04:51:07.379276Z",
     "shell.execute_reply": "2021-03-21T04:51:07.378658Z"
    },
    "papermill": {
     "duration": 1.484779,
     "end_time": "2021-03-21T04:51:07.379414",
     "exception": false,
     "start_time": "2021-03-21T04:51:05.894635",
     "status": "completed"
    },
    "tags": []
   },
   "outputs": [
    {
     "name": "stdout",
     "output_type": "stream",
     "text": [
      "data:  dict_keys(['batch_label', 'labels', 'data', 'filenames'])\n",
      "meta:  dict_keys(['num_cases_per_batch', 'label_names', 'num_vis'])\n",
      "label:  ['airplane', 'automobile', 'bird', 'cat', 'deer', 'dog', 'frog', 'horse', 'ship', 'truck']\n"
     ]
    },
    {
     "data": {
      "image/png": "[encoded data removed]",
      "text/plain": [
       "<Figure size 432x288 with 1 Axes>"
      ]
     },
     "metadata": {
      "needs_background": "light"
     },
     "output_type": "display_data"
    }
   ],
   "source": [
    "class myDataset(torch.utils.data.Dataset):\n",
    "    def __init__(self, data, label):\n",
    "        super().__init__()\n",
    "        self.data = data\n",
    "        self.label = label\n",
    "    \n",
    "    def __len__(self):\n",
    "        return len(self.data)\n",
    "    \n",
    "    def __getitem__(self, index):\n",
    "        img = self.data[index]\n",
    "        image = torch.tensor(image,dtype=torch.float)\n",
    "        \n",
    "        label = self.label[index]\n",
    "        label = torch.tensor(label,dtype=torch.long)\n",
    "\n",
    "        return img,label \n",
    "\n",
    "def unpickle(file):\n",
    "    with open(file,'rb') as f:\n",
    "        return pickle.load(f,encoding='latin1')\n",
    "        \n",
    "def read_data(data_dict):\n",
    "    x = np.array(data_dict['data']).reshape(-1,3,32,32)\n",
    "    #需加入下面的transpose否则图片显示会乱掉，但实际训练测试可以不用transpose\n",
    "    x = np.transpose(x, (0,2,3,1))\n",
    "    plt.imshow(x[1])\n",
    "    y = np.array(data_dict['labels'])\n",
    "    return x,y \n",
    "\n",
    "path = \"../input/cifar10-python/cifar-10-batches-py/\"\n",
    "data_dict = unpickle(path + \"test_batch\")\n",
    "print(\"data: \", data_dict.keys())\n",
    "x,y = read_data(data_dict)\n",
    "\n",
    "meta_dict = unpickle(path + \"batches.meta\")\n",
    "print(\"meta: \", meta_dict.keys())\n",
    "print(\"label: \", meta_dict['label_names'])\n",
    "dataset = myDataset(x,y)\n",
    "dataLoader = DataLoader(dataset,batch_size=64,shuffle=True)\n"
   ]
  },
  {
   "cell_type": "markdown",
   "metadata": {
    "papermill": {
     "duration": 0.072804,
     "end_time": "2021-03-21T04:51:07.526563",
     "exception": false,
     "start_time": "2021-03-21T04:51:07.453759",
     "status": "completed"
    },
    "tags": []
   },
   "source": [
    "14. 使用pytorch自带的dataloader\n",
    "\n",
    "比较加载数据中使用不同参数的时间\n"
   ]
  },
  {
   "cell_type": "code",
   "execution_count": 30,
   "metadata": {
    "execution": {
     "iopub.execute_input": "2021-03-21T04:51:07.685383Z",
     "iopub.status.busy": "2021-03-21T04:51:07.684708Z",
     "iopub.status.idle": "2021-03-21T04:51:10.192288Z",
     "shell.execute_reply": "2021-03-21T04:51:10.191658Z"
    },
    "papermill": {
     "duration": 2.592145,
     "end_time": "2021-03-21T04:51:10.192437",
     "exception": false,
     "start_time": "2021-03-21T04:51:07.600292",
     "status": "completed"
    },
    "tags": []
   },
   "outputs": [
    {
     "name": "stdout",
     "output_type": "stream",
     "text": [
      "data_shape (50000, 32, 32, 3)\n",
      "\n",
      "\n",
      "batch \t time\n",
      "1 \t 7.843971252441406e-05\n",
      "4 \t 3.600120544433594e-05\n",
      "64 \t 3.62396240234375e-05\n",
      "1024 \t 3.361701965332031e-05\n",
      "\n",
      "\n",
      "worker \t time\n",
      "0 \t 3.933906555175781e-05\n",
      "1 \t 5.125999450683594e-05\n",
      "4 \t 3.337860107421875e-05\n",
      "16 \t 3.1948089599609375e-05\n",
      "\n",
      "\n",
      "pin \t time\n",
      "0 \t 3.0994415283203125e-05\n",
      "1 \t 4.5299530029296875e-05\n"
     ]
    },
    {
     "data": {
      "image/png": "[encoded data removed]",
      "text/plain": [
       "<Figure size 432x288 with 1 Axes>"
      ]
     },
     "metadata": {
      "needs_background": "light"
     },
     "output_type": "display_data"
    }
   ],
   "source": [
    "X = []\n",
    "Y = []\n",
    "path = \"../input/cifar10-python/cifar-10-batches-py/\"\n",
    "for i in range(5):\n",
    "    data_dict = unpickle(path + \"data_batch_\" + str(i+1))\n",
    "    x,y = read_data(data_dict)\n",
    "    X.append(x)\n",
    "    Y.append(y)\n",
    "\n",
    "X = np.concatenate(X)\n",
    "Y = np.concatenate(Y)\n",
    "print(\"data_shape\", X.shape)\n",
    "\n",
    "import time\n",
    "print(\"\\n\")\n",
    "print(\"batch\",\"\\t\",\"time\")\n",
    "for B in [1,4,64,1024]:\n",
    "    begin = time.time()\n",
    "    DataLoader(dataset, batch_size=B)\n",
    "    end = time.time()\n",
    "    print(B,\"\\t\",end-begin)\n",
    "\n",
    "print(\"\\n\")\n",
    "print(\"worker\",\"\\t\",\"time\")\n",
    "for N in [0,1,4,16]:\n",
    "    begin = time.time()\n",
    "    DataLoader(dataset, num_workers=N)\n",
    "    end = time.time()\n",
    "    print(N,\"\\t\",end-begin)\n",
    "\n",
    "print(\"\\n\")\n",
    "print(\"pin\",\"\\t\",\"time\")\n",
    "for P in [0,1]:\n",
    "    begin = time.time()\n",
    "    DataLoader(dataset, pin_memory=P)\n",
    "    end = time.time()\n",
    "    print(P,\"\\t\",end-begin)\n"
   ]
  },
  {
   "cell_type": "markdown",
   "metadata": {
    "papermill": {
     "duration": 0.075959,
     "end_time": "2021-03-21T04:51:10.342717",
     "exception": false,
     "start_time": "2021-03-21T04:51:10.266758",
     "status": "completed"
    },
    "tags": []
   },
   "source": [
    "对比可见，使用更大batch_size、更大的num_workers会具有更快的读取速度\n",
    "\n",
    "但并不需要太大，取决于数据集的大小，在此例子中，pin_memory对数据读取速度没有显著影响（可能由于数据集太小导致对比不明显）"
   ]
  },
  {
   "cell_type": "markdown",
   "metadata": {
    "papermill": {
     "duration": 0.075077,
     "end_time": "2021-03-21T04:51:10.491664",
     "exception": false,
     "start_time": "2021-03-21T04:51:10.416587",
     "status": "completed"
    },
    "tags": []
   },
   "source": [
    "15. 计算CIFAR-10 RGB三通道的std\n",
    "\n",
    "调用numpy中的std函数"
   ]
  },
  {
   "cell_type": "code",
   "execution_count": 31,
   "metadata": {
    "execution": {
     "iopub.execute_input": "2021-03-21T04:51:10.647142Z",
     "iopub.status.busy": "2021-03-21T04:51:10.645768Z",
     "iopub.status.idle": "2021-03-21T04:51:10.972323Z",
     "shell.execute_reply": "2021-03-21T04:51:10.971823Z"
    },
    "papermill": {
     "duration": 0.406856,
     "end_time": "2021-03-21T04:51:10.972467",
     "exception": false,
     "start_time": "2021-03-21T04:51:10.565611",
     "status": "completed"
    },
    "tags": []
   },
   "outputs": [
    {
     "name": "stdout",
     "output_type": "stream",
     "text": [
      "data_shape (10000, 32, 32, 3)\n",
      "channel \t std\n",
      "R \t 62.89639134921991\n",
      "G \t 61.93752718231365\n",
      "B \t 66.70605639561605\n"
     ]
    },
    {
     "data": {
      "image/png": "[encoded data removed]",
      "text/plain": [
       "<Figure size 432x288 with 1 Axes>"
      ]
     },
     "metadata": {
      "needs_background": "light"
     },
     "output_type": "display_data"
    }
   ],
   "source": [
    "data_dict = unpickle(path + \"test_batch\")\n",
    "x,y = read_data(data_dict)\n",
    "print(\"data_shape\", x.shape)\n",
    "R = x[:,:,:,0]\n",
    "G = x[:,:,:,1]\n",
    "B = x[:,:,:,2]\n",
    "print(\"channel \\t std\")\n",
    "print(\"R\",\"\\t\",np.std(R))\n",
    "print(\"G\",\"\\t\",np.std(G))\n",
    "print(\"B\",\"\\t\",np.std(B))"
   ]
  },
  {
   "cell_type": "markdown",
   "metadata": {
    "papermill": {
     "duration": 0.074399,
     "end_time": "2021-03-21T04:51:11.121424",
     "exception": false,
     "start_time": "2021-03-21T04:51:11.047025",
     "status": "completed"
    },
    "tags": []
   },
   "source": [
    "16. numpy练习\n",
    "\n",
    "16.1 实现直角坐标系到极坐标系的转换"
   ]
  },
  {
   "cell_type": "code",
   "execution_count": 32,
   "metadata": {
    "execution": {
     "iopub.execute_input": "2021-03-21T04:51:11.292576Z",
     "iopub.status.busy": "2021-03-21T04:51:11.291197Z",
     "iopub.status.idle": "2021-03-21T04:51:11.810793Z",
     "shell.execute_reply": "2021-03-21T04:51:11.810286Z"
    },
    "papermill": {
     "duration": 0.614487,
     "end_time": "2021-03-21T04:51:11.810962",
     "exception": false,
     "start_time": "2021-03-21T04:51:11.196475",
     "status": "completed"
    },
    "tags": []
   },
   "outputs": [
    {
     "data": {
      "image/png": "[encoded data removed]",
      "text/plain": [
       "<Figure size 432x288 with 1 Axes>"
      ]
     },
     "metadata": {
      "needs_background": "light"
     },
     "output_type": "display_data"
    },
    {
     "data": {
      "image/png": "[encoded data removed]",
      "text/plain": [
       "<Figure size 432x288 with 1 Axes>"
      ]
     },
     "metadata": {
      "needs_background": "light"
     },
     "output_type": "display_data"
    }
   ],
   "source": [
    "import numpy as np\n",
    "import matplotlib.pyplot as plt\n",
    "\n",
    "x = -10 + 20 * np.random.rand(10,2)       \n",
    "y = np.empty(x.shape)                \n",
    "plt.scatter(x[:,0],x[:,1])\n",
    "plt.show()\n",
    "\n",
    "for i in range(10):\n",
    "    a,b = x[i,0], x[i,1]\n",
    "    r = (a**2 + b**2 ) ** 0.5\n",
    "    theta = np.arctan(b/a)\n",
    "    y[i,0], y[i,1] = theta,r\n",
    "\n",
    "ax = plt.subplot(111,projection='polar')\n",
    "ax.scatter(y[:,1], y[:,0])\n",
    "plt.show()"
   ]
  },
  {
   "cell_type": "markdown",
   "metadata": {
    "papermill": {
     "duration": 0.076211,
     "end_time": "2021-03-21T04:51:11.963435",
     "exception": false,
     "start_time": "2021-03-21T04:51:11.887224",
     "status": "completed"
    },
    "tags": []
   },
   "source": [
    "转换后在极坐标绘制散点图，与直角坐标系中点一致"
   ]
  },
  {
   "cell_type": "markdown",
   "metadata": {
    "papermill": {
     "duration": 0.076273,
     "end_time": "2021-03-21T04:51:12.115480",
     "exception": false,
     "start_time": "2021-03-21T04:51:12.039207",
     "status": "completed"
    },
    "tags": []
   },
   "source": [
    "16.2 继承np.ndarray类构造对称矩阵类\n",
    "\n",
    "重载new和setitem函数，new时返回空矩阵，setitem时将对称位置的元素也赋值"
   ]
  },
  {
   "cell_type": "code",
   "execution_count": 33,
   "metadata": {
    "execution": {
     "iopub.execute_input": "2021-03-21T04:51:12.278606Z",
     "iopub.status.busy": "2021-03-21T04:51:12.277785Z",
     "iopub.status.idle": "2021-03-21T04:51:12.283915Z",
     "shell.execute_reply": "2021-03-21T04:51:12.282554Z"
    },
    "papermill": {
     "duration": 0.091684,
     "end_time": "2021-03-21T04:51:12.284135",
     "exception": false,
     "start_time": "2021-03-21T04:51:12.192451",
     "status": "completed"
    },
    "tags": []
   },
   "outputs": [
    {
     "name": "stdout",
     "output_type": "stream",
     "text": [
      "[[0. 0. 0. 0. 0.]\n",
      " [0. 0. 0. 4. 0.]\n",
      " [0. 0. 0. 0. 0.]\n",
      " [0. 4. 0. 0. 0.]\n",
      " [0. 0. 0. 0. 0.]]\n"
     ]
    }
   ],
   "source": [
    "class SymmetricMatrix(np.ndarray):  \n",
    "    def __new__(cls, shape): \n",
    "        M = super().__new__(cls,shape)\n",
    "        rows,cols = shape\n",
    "        for i in range(rows):\n",
    "            M[i,i] = 0\n",
    "            for j in range(i):\n",
    "                M[i,j] = 0\n",
    "        return M\n",
    "        \n",
    "    def __setitem__(self, key, value):\n",
    "        i, j = key\n",
    "        super().__setitem__((i,j),value)\n",
    "        super().__setitem__((j,i),value)\n",
    "\n",
    "M = SymmetricMatrix((5,5))\n",
    "M[1,3]=4\n",
    "print(M)"
   ]
  },
  {
   "cell_type": "markdown",
   "metadata": {
    "papermill": {
     "duration": 0.076019,
     "end_time": "2021-03-21T04:51:12.440399",
     "exception": false,
     "start_time": "2021-03-21T04:51:12.364380",
     "status": "completed"
    },
    "tags": []
   },
   "source": [
    "16.3 点到直线的距离\n",
    "\n",
    "先将由由两点式表示的直线转换为标准型Ax+By+C=0, 再计算并返回距离d"
   ]
  },
  {
   "cell_type": "code",
   "execution_count": 34,
   "metadata": {
    "execution": {
     "iopub.execute_input": "2021-03-21T04:51:12.605137Z",
     "iopub.status.busy": "2021-03-21T04:51:12.604401Z",
     "iopub.status.idle": "2021-03-21T04:51:12.607983Z",
     "shell.execute_reply": "2021-03-21T04:51:12.608632Z"
    },
    "papermill": {
     "duration": 0.090169,
     "end_time": "2021-03-21T04:51:12.608850",
     "exception": false,
     "start_time": "2021-03-21T04:51:12.518681",
     "status": "completed"
    },
    "tags": []
   },
   "outputs": [
    {
     "name": "stdout",
     "output_type": "stream",
     "text": [
      "[1.0, 1.0, 1.0]\n"
     ]
    }
   ],
   "source": [
    "def point_distance(P1,P2,P):\n",
    "    x1,y1 = P1\n",
    "    x2,y2 = P2\n",
    "    x,y = P\n",
    "    A,B,C = y2-y1, -(x2-x1), -(y2-y1)*x1 + (x2-x1)*y1\n",
    "    r = (A**2+B**2)**0.5 \n",
    "    d = np.abs(A*x+B*y+C) / r\n",
    "    return d\n",
    "\n",
    "def distance(P1,P2,P):\n",
    "    D = []\n",
    "    for i in range(len(P1)):\n",
    "        D.append(point_distance(P1[i],P2[i],P[i]))\n",
    "    return D\n",
    "\n",
    "P1 = [(1,1),(2,2),(3,3)]\n",
    "P2 = [(1,-1),(2,-2),(3,-3)]\n",
    "P = [(2,0),(3,0),(4,0)]\n",
    "print(distance(P1,P2,P))"
   ]
  },
  {
   "cell_type": "markdown",
   "metadata": {
    "papermill": {
     "duration": 0.078245,
     "end_time": "2021-03-21T04:51:12.764808",
     "exception": false,
     "start_time": "2021-03-21T04:51:12.686563",
     "status": "completed"
    },
    "tags": []
   },
   "source": [
    "17. 双线性插值\n",
    "\n",
    "将索引i,j转换为整数ni,nj，再判断索引点是否为整格点,计算四周的值并求平均"
   ]
  },
  {
   "cell_type": "code",
   "execution_count": 35,
   "metadata": {
    "execution": {
     "iopub.execute_input": "2021-03-21T04:51:12.925502Z",
     "iopub.status.busy": "2021-03-21T04:51:12.924932Z",
     "iopub.status.idle": "2021-03-21T04:51:12.935691Z",
     "shell.execute_reply": "2021-03-21T04:51:12.934762Z"
    },
    "papermill": {
     "duration": 0.091676,
     "end_time": "2021-03-21T04:51:12.935939",
     "exception": false,
     "start_time": "2021-03-21T04:51:12.844263",
     "status": "completed"
    },
    "tags": []
   },
   "outputs": [
    {
     "name": "stdout",
     "output_type": "stream",
     "text": [
      "True\n",
      "True\n"
     ]
    }
   ],
   "source": [
    "def biInterpolation(A, pos):\n",
    "    #输入矩阵A，位置pos，输出双线性插值后的值\n",
    "    rows, cols = A.shape\n",
    "    i,j = pos\n",
    "    i -= 1\n",
    "    j -= 1\n",
    "    ni,nj = int(i),int(j)\n",
    "    \n",
    "    if nj==j:\n",
    "        l = r = j\n",
    "    else:\n",
    "        l,r = max(nj,0), min(nj+1,rows-1)\n",
    "    \n",
    "    if ni==i:\n",
    "        u = d = i\n",
    "    else:\n",
    "        u,d = max(ni,0), min(ni+1, cols-1)\n",
    "               \n",
    "    return (A[u][l]+A[d][l]+A[u][r]+A[d][r]) / 4\n",
    "\n",
    "A = np.array([[110, 120, 130],\n",
    "            [210, 220, 230],\n",
    "            [310, 320, 330]])\n",
    "\n",
    "print(biInterpolation(A, (1, 1)) == 110)\n",
    "print(biInterpolation(A, (2.5, 2.5)) == 275)"
   ]
  },
  {
   "cell_type": "markdown",
   "metadata": {
    "papermill": {
     "duration": 0.078147,
     "end_time": "2021-03-21T04:51:13.094892",
     "exception": false,
     "start_time": "2021-03-21T04:51:13.016745",
     "status": "completed"
    },
    "tags": []
   },
   "source": [
    "可见，函数通过了样例测试"
   ]
  },
  {
   "cell_type": "markdown",
   "metadata": {
    "papermill": {
     "duration": 0.079972,
     "end_time": "2021-03-21T04:51:13.255162",
     "exception": false,
     "start_time": "2021-03-21T04:51:13.175190",
     "status": "completed"
    },
    "tags": []
   },
   "source": [
    "18. 笛卡尔积\n",
    "\n",
    "递归计算笛卡尔积，遍历list中的第一个元素，与其余元素的笛卡尔积相连接"
   ]
  },
  {
   "cell_type": "code",
   "execution_count": 36,
   "metadata": {
    "execution": {
     "iopub.execute_input": "2021-03-21T04:51:13.419811Z",
     "iopub.status.busy": "2021-03-21T04:51:13.419135Z",
     "iopub.status.idle": "2021-03-21T04:51:13.422019Z",
     "shell.execute_reply": "2021-03-21T04:51:13.422734Z"
    },
    "papermill": {
     "duration": 0.089735,
     "end_time": "2021-03-21T04:51:13.423020",
     "exception": false,
     "start_time": "2021-03-21T04:51:13.333285",
     "status": "completed"
    },
    "tags": []
   },
   "outputs": [
    {
     "name": "stdout",
     "output_type": "stream",
     "text": [
      "[[1, 4, 6], [1, 4, 7], [1, 5, 6], [1, 5, 7], [2, 4, 6], [2, 4, 7], [2, 5, 6], [2, 5, 7], [3, 4, 6], [3, 4, 7], [3, 5, 6], [3, 5, 7]]\n"
     ]
    }
   ],
   "source": [
    "def product(lst):\n",
    "    #输入列表lst，输出笛卡尔积，当lst元素小于2时为递归边界\n",
    "    if len(lst)<=1:\n",
    "        return lst\n",
    "    elif len(lst)==2:\n",
    "        return [[x,y]for x in lst[0] for y in lst[1]]\n",
    "    else:\n",
    "        l = []\n",
    "        a,b = lst[0],product(lst[1::])\n",
    "        return [[x]+y for x in a for y in b]\n",
    "        \n",
    "x = [[1,2,3], [4,5],[6,7]]\n",
    "print(product(x))"
   ]
  },
  {
   "cell_type": "markdown",
   "metadata": {
    "papermill": {
     "duration": 0.078558,
     "end_time": "2021-03-21T04:51:13.583983",
     "exception": false,
     "start_time": "2021-03-21T04:51:13.505425",
     "status": "completed"
    },
    "tags": []
   },
   "source": [
    "19. 提取指定大小的子矩阵并填充"
   ]
  },
  {
   "cell_type": "code",
   "execution_count": 37,
   "metadata": {
    "execution": {
     "iopub.execute_input": "2021-03-21T04:51:13.756933Z",
     "iopub.status.busy": "2021-03-21T04:51:13.756244Z",
     "iopub.status.idle": "2021-03-21T04:51:13.775124Z",
     "shell.execute_reply": "2021-03-21T04:51:13.776014Z"
    },
    "papermill": {
     "duration": 0.112552,
     "end_time": "2021-03-21T04:51:13.776273",
     "exception": false,
     "start_time": "2021-03-21T04:51:13.663721",
     "status": "completed"
    },
    "tags": []
   },
   "outputs": [
    {
     "name": "stdout",
     "output_type": "stream",
     "text": [
      "[[3 2 9 2 3]\n",
      " [2 2 9 0 2]\n",
      " [6 0 8 1 0]\n",
      " [7 4 6 6 5]\n",
      " [7 3 6 4 4]]\n",
      "[[0. 0. 0. 0.]\n",
      " [0. 3. 2. 9.]\n",
      " [0. 2. 2. 9.]\n",
      " [0. 6. 0. 8.]]\n"
     ]
    }
   ],
   "source": [
    "def valid(a,pos):\n",
    "    #判断pos位置在矩阵A中是否合法\n",
    "    rows,cols = a.shape\n",
    "    i,j = pos\n",
    "    return i>=0 and j>=0 and i<rows and j<cols\n",
    "\n",
    "def subpart(a,shape,fill,pos):\n",
    "    #提取矩阵a的子矩阵b并用fill填充\n",
    "    rows, cols = a.shape\n",
    "    x,y = pos\n",
    "    h,w = shape\n",
    "    b = np.empty(shape)\n",
    "    \n",
    "    for i in range(h):\n",
    "        for j in range(w):\n",
    "            i0, j0 = x - h//2 + i, y - w//2 + j\n",
    "            if valid(a,(i0,j0)):\n",
    "                b[i,j] = a[i0,j0]\n",
    "            else:\n",
    "                b[i,j] = fill    \n",
    "    return b\n",
    "\n",
    "shape = (4, 4)\n",
    "fill = 0\n",
    "pos = (1,1)\n",
    "a = np.random.randint(0, 10, (5, 5))\n",
    "print(a)\n",
    "b = subpart(a,shape,fill,pos)\n",
    "print(b)\n"
   ]
  },
  {
   "cell_type": "markdown",
   "metadata": {
    "papermill": {
     "duration": 0.080533,
     "end_time": "2021-03-21T04:51:13.951728",
     "exception": false,
     "start_time": "2021-03-21T04:51:13.871195",
     "status": "completed"
    },
    "tags": []
   },
   "source": [
    "20. 不使用numpy的矩阵操作\n",
    "\n",
    "矩阵求逆时，采用高斯消元法\n",
    "\n",
    "判断矩阵相等时，改用math.isclose比较浮点数更为精确"
   ]
  },
  {
   "cell_type": "code",
   "execution_count": 38,
   "metadata": {
    "execution": {
     "iopub.execute_input": "2021-03-21T04:51:14.117274Z",
     "iopub.status.busy": "2021-03-21T04:51:14.116230Z",
     "iopub.status.idle": "2021-03-21T04:51:14.153159Z",
     "shell.execute_reply": "2021-03-21T04:51:14.152332Z"
    },
    "papermill": {
     "duration": 0.119925,
     "end_time": "2021-03-21T04:51:14.153403",
     "exception": false,
     "start_time": "2021-03-21T04:51:14.033478",
     "status": "completed"
    },
    "tags": []
   },
   "outputs": [
    {
     "name": "stdout",
     "output_type": "stream",
     "text": [
      "True\n",
      "True\n",
      "True\n",
      "True\n",
      "True\n",
      "True\n",
      "True\n"
     ]
    }
   ],
   "source": [
    "import math\n",
    "def create(n,m):\n",
    "    #创建一个n行m列的全零矩阵\n",
    "    a = []\n",
    "    for i in range(n):\n",
    "        l = []\n",
    "        for j in range(m):\n",
    "            l.append(0)\n",
    "        a.append(l)\n",
    "    return a\n",
    "\n",
    "def add(A,B):\n",
    "    #矩阵加法\n",
    "    n,m = len(A), len(A[0])\n",
    "    C = create(n,m)\n",
    "    for i in range(n):\n",
    "        for j in range(m):\n",
    "            C[i][j] = A[i][j] + B[i][j]\n",
    "    return C\n",
    "\n",
    "def sub(A,B):\n",
    "    #矩阵减法\n",
    "    n,m = len(A), len(A[0])\n",
    "    C = create(n,m)\n",
    "    for i in range(n):\n",
    "        for j in range(m):\n",
    "            C[i][j] = A[i][j] - B[i][j]\n",
    "    return C\n",
    "\n",
    "def scalar_mul(A,a):\n",
    "    #矩阵和标量相乘\n",
    "    n,m = len(A),len(A[0])\n",
    "    B = create(n,m)\n",
    "    for i in range(n):\n",
    "        for j in range(m):\n",
    "            B[i][j] = A[i][j] * a\n",
    "    return B\n",
    "\n",
    "def mul(A,B):\n",
    "    #矩阵乘法\n",
    "    n,m,s = len(A),len(B[0]),len(B)\n",
    "    C = create(n,m)\n",
    "    for i in range(n):\n",
    "        for j in range(m):\n",
    "            tot = 0\n",
    "            for k in range(s):\n",
    "                tot += A[i][k] * B[k][j]\n",
    "            C[i][j] = tot\n",
    "    return C\n",
    "\n",
    "def identity(n):\n",
    "    #生成n阶单位阵\n",
    "    A = create(n,n)\n",
    "    for i in range(n):\n",
    "        A[i][i] = 1\n",
    "    return A\n",
    "\n",
    "def transpose(A):\n",
    "    #返回矩阵A的转置\n",
    "    n,m = len(A),len(A[0])\n",
    "    B = create(m,n)\n",
    "    for i in range(n):\n",
    "        for j in range(m):\n",
    "            B[j][i] = A[i][j]\n",
    "    return B\n",
    "\n",
    "def equal(A,B):\n",
    "    #判断两个浮点矩阵是否相等，采用math.isclose函数逐个判断每个元素\n",
    "    if len(A)!=len(B) or len(A[0])!=len(B[0]):\n",
    "        return False\n",
    "    n,m = len(A),len(A[0])\n",
    "    for i in range(n):\n",
    "        for j in range(m):\n",
    "            if math.isclose(A[i][j],B[i][j]) is False:\n",
    "                return False\n",
    "    return True\n",
    "\n",
    "def copy(A):\n",
    "    #输入矩阵A，返回矩阵A的拷贝B\n",
    "    n,m = len(A),len(A[0])\n",
    "    B = create(n,m)\n",
    "    for i in range(n):\n",
    "        for j in range(m):\n",
    "            B[i][j] = A[i][j]\n",
    "    return B\n",
    "\n",
    "def inverse(B):    \n",
    "    #矩阵求逆，使用高斯消元法\n",
    "    A = copy(B)\n",
    "    n = len(A)\n",
    "    C = identity(n)\n",
    "    for j in range(n):\n",
    "        #找到绝对值最大的非零元素作为主元\n",
    "        k = j\n",
    "        for i in range(j,n):\n",
    "            if abs(A[i][j]) > abs(A[k][j]) and abs(A[i][j])!=0:\n",
    "                k = i\n",
    "        \n",
    "        #交换两行\n",
    "        A[j], A[k] = A[k], A[j]\n",
    "        C[j], C[k] = C[k], C[j]\n",
    "                \n",
    "        #将对角元素设置为1\n",
    "        a = A[j][j]\n",
    "        C[j] = [x/a for x in C[j]]\n",
    "        A[j] = [x/a for x in A[j]]\n",
    "    \n",
    "        #用主元将同一列的非对角元素消去为0\n",
    "        for i in range(n):\n",
    "            if i != j and A[i][j] != 0:\n",
    "                a = A[i][j]\n",
    "                t = [x*a for x in C[j]]\n",
    "                C[i] = [C[i][k] - t[k] for k in range(n)]\n",
    "                \n",
    "                t = [x*a for x in A[j]]\n",
    "                A[i] = [A[i][k] - t[k] for k in range(n)]\n",
    "                        \n",
    "    return C\n",
    " \n",
    "A = [[12, 10], [3, 9]]\n",
    "B = [[3, 4], [7, 4]]\n",
    "C = [[11, 12, 13, 14], [21, 22, 23, 24], [31, 32, 33, 34], [41, 42, 43, 44]]\n",
    "D = [[3, 0, 2], [2, 0, -2], [0, 1, 1]]\n",
    "\n",
    "#测试样例\n",
    "print(add(A, B) == [[15, 14], [10, 13]])\n",
    "print(sub(A, B) == [[9, 6], [-4, 5]])\n",
    "print(scalar_mul(B, 3) == [[9, 12], [21, 12]])\n",
    "print(mul(A, B) == [[106, 88], [72, 48]])\n",
    "print(identity(3) == [[1, 0, 0], [0, 1, 0], [0, 0, 1]])\n",
    "print(transpose(C) == [[11, 21, 31, 41], [12, 22, 32, 42], [13, 23, 33, 43], [14, 24, 34, 44]])\n",
    "print(equal(inverse(D), [[0.2, 0.2, 0.0], [-0.2, 0.30000000000000004, 1.0], [0.2, -0.30000000000000004, 0.0]]))"
   ]
  },
  {
   "cell_type": "markdown",
   "metadata": {
    "papermill": {
     "duration": 0.078539,
     "end_time": "2021-03-21T04:51:14.312441",
     "exception": false,
     "start_time": "2021-03-21T04:51:14.233902",
     "status": "completed"
    },
    "tags": []
   },
   "source": [
    "21. 最大公约数"
   ]
  },
  {
   "cell_type": "code",
   "execution_count": 39,
   "metadata": {
    "execution": {
     "iopub.execute_input": "2021-03-21T04:51:14.482578Z",
     "iopub.status.busy": "2021-03-21T04:51:14.481601Z",
     "iopub.status.idle": "2021-03-21T04:51:14.485604Z",
     "shell.execute_reply": "2021-03-21T04:51:14.484982Z"
    },
    "papermill": {
     "duration": 0.092606,
     "end_time": "2021-03-21T04:51:14.485749",
     "exception": false,
     "start_time": "2021-03-21T04:51:14.393143",
     "status": "completed"
    },
    "tags": []
   },
   "outputs": [
    {
     "name": "stdout",
     "output_type": "stream",
     "text": [
      "True\n",
      "True\n",
      "True\n",
      "True\n"
     ]
    }
   ],
   "source": [
    "def gcd(a,b):\n",
    "    a,b = abs(a), abs(b)\n",
    "    if a<b:\n",
    "        a,b = b,a\n",
    "    if b==0:\n",
    "        return a\n",
    "    else:\n",
    "        return gcd(b,a%b)\n",
    "    \n",
    "print(gcd(3,5)==1)\n",
    "print(gcd(6,3)==3)\n",
    "print(gcd(-2,6)==2)\n",
    "print(gcd(0,3)==3)"
   ]
  },
  {
   "cell_type": "code",
   "execution_count": 40,
   "metadata": {
    "execution": {
     "iopub.execute_input": "2021-03-21T04:51:14.652957Z",
     "iopub.status.busy": "2021-03-21T04:51:14.652246Z",
     "iopub.status.idle": "2021-03-21T04:51:14.655315Z",
     "shell.execute_reply": "2021-03-21T04:51:14.655852Z"
    },
    "papermill": {
     "duration": 0.089215,
     "end_time": "2021-03-21T04:51:14.656047",
     "exception": false,
     "start_time": "2021-03-21T04:51:14.566832",
     "status": "completed"
    },
    "tags": []
   },
   "outputs": [
    {
     "ename": "SyntaxError",
     "evalue": "invalid syntax (<ipython-input-40-925f80286f2d>, line 1)",
     "output_type": "error",
     "traceback": [
      "\u001b[0;36m  File \u001b[0;32m\"<ipython-input-40-925f80286f2d>\"\u001b[0;36m, line \u001b[0;32m1\u001b[0m\n\u001b[0;31m    22. 和为N的连续数字\u001b[0m\n\u001b[0m               ^\u001b[0m\n\u001b[0;31mSyntaxError\u001b[0m\u001b[0;31m:\u001b[0m invalid syntax\n"
     ]
    }
   ],
   "source": [
    "22. 和为N的连续数字"
   ]
  },
  {
   "cell_type": "markdown",
   "metadata": {
    "papermill": {
     "duration": 0.079744,
     "end_time": "2021-03-21T04:51:14.817483",
     "exception": false,
     "start_time": "2021-03-21T04:51:14.737739",
     "status": "completed"
    },
    "tags": []
   },
   "source": [
    "设k为连续数字的个数，n为连续数字的首个，满足k*(n+n+k-1)/2 == N\n",
    "\n",
    "有n>0, 故k^2 < k^2+k = 2N, 故 k < sqrt(2N) = m\n",
    "\n",
    "故只需在range(1,m)中枚举k， 用k计算得到 n = (2 N/k + 1- k)/2， 再判断n是否为整数即可\n"
   ]
  },
  {
   "cell_type": "code",
   "execution_count": 41,
   "metadata": {
    "execution": {
     "iopub.execute_input": "2021-03-21T04:51:14.982804Z",
     "iopub.status.busy": "2021-03-21T04:51:14.982205Z",
     "iopub.status.idle": "2021-03-21T04:51:15.537504Z",
     "shell.execute_reply": "2021-03-21T04:51:15.536943Z"
    },
    "papermill": {
     "duration": 0.638604,
     "end_time": "2021-03-21T04:51:15.537655",
     "exception": false,
     "start_time": "2021-03-21T04:51:14.899051",
     "status": "completed"
    },
    "tags": []
   },
   "outputs": [
    {
     "name": "stdout",
     "output_type": "stream",
     "text": [
      "[1000.0]\n",
      "[198.0, 199.0, 200.0, 201.0, 202.0]\n",
      "[55.0, 56.0, 57.0, 58.0, 59.0, 60.0, 61.0, 62.0, 63.0, 64.0, 65.0, 66.0, 67.0, 68.0, 69.0, 70.0]\n",
      "[28.0, 29.0, 30.0, 31.0, 32.0, 33.0, 34.0, 35.0, 36.0, 37.0, 38.0, 39.0, 40.0, 41.0, 42.0, 43.0, 44.0, 45.0, 46.0, 47.0, 48.0, 49.0, 50.0, 51.0, 52.0]\n"
     ]
    }
   ],
   "source": [
    "def find(N):\n",
    "    m = int((2*N)**2)+1\n",
    "    for k in range(1,m):\n",
    "        if (2*N)%k != 0:\n",
    "            continue\n",
    "        n = (2*N/k + 1- k)/2\n",
    "        if n>0 and int(n)==n:\n",
    "            l = []\n",
    "            for i in range(k):\n",
    "                l.append(i+n)\n",
    "            print(l)\n",
    "\n",
    "find(1000)"
   ]
  },
  {
   "cell_type": "markdown",
   "metadata": {
    "papermill": {
     "duration": 0.083046,
     "end_time": "2021-03-21T04:51:15.702696",
     "exception": false,
     "start_time": "2021-03-21T04:51:15.619650",
     "status": "completed"
    },
    "tags": []
   },
   "source": [
    "23. 密码检查\n",
    "\n",
    "采用正则表达式"
   ]
  },
  {
   "cell_type": "code",
   "execution_count": 42,
   "metadata": {
    "execution": {
     "iopub.execute_input": "2021-03-21T04:51:15.873763Z",
     "iopub.status.busy": "2021-03-21T04:51:15.872993Z",
     "iopub.status.idle": "2021-03-21T04:51:15.876529Z",
     "shell.execute_reply": "2021-03-21T04:51:15.875917Z"
    },
    "papermill": {
     "duration": 0.092995,
     "end_time": "2021-03-21T04:51:15.876666",
     "exception": false,
     "start_time": "2021-03-21T04:51:15.783671",
     "status": "completed"
    },
    "tags": []
   },
   "outputs": [
    {
     "name": "stdout",
     "output_type": "stream",
     "text": [
      "['ABd1234@1']\n"
     ]
    }
   ],
   "source": [
    "import re\n",
    "\n",
    "def check(s):\n",
    "    #判断密码s是否符合要求\n",
    "    if len(s)<6 or len(s)>12:\n",
    "        return False\n",
    "    \n",
    "    lowers = re.search(\"[a-z]\",s)\n",
    "    uppers = re.search(\"[A-Z]\",s)\n",
    "    numbers = re.search(\"[0-9]\",s)\n",
    "    others = re.search(\"[$#@]\",s)\n",
    "   \n",
    "    if lowers and uppers and numbers and others:\n",
    "        return True\n",
    "    else:\n",
    "        return False\n",
    "\n",
    "def find(A):\n",
    "    #输入密码列表A，返回合法密码列表B\n",
    "    B = []\n",
    "    for a in A:\n",
    "        if check(a) is True:\n",
    "            B.append(a)\n",
    "    return B\n",
    "\n",
    "A = [\"ABd1234@1\",\"a F1#\",\"2w3E*\",\"2We3345\"]\n",
    "print(find(A))"
   ]
  },
  {
   "cell_type": "markdown",
   "metadata": {
    "papermill": {
     "duration": 0.080519,
     "end_time": "2021-03-21T04:51:16.038746",
     "exception": false,
     "start_time": "2021-03-21T04:51:15.958227",
     "status": "completed"
    },
    "tags": []
   },
   "source": [
    "24. 完成UCL上的三个机器学习任务"
   ]
  },
  {
   "cell_type": "markdown",
   "metadata": {
    "papermill": {
     "duration": 0.08124,
     "end_time": "2021-03-21T04:51:16.202733",
     "exception": false,
     "start_time": "2021-03-21T04:51:16.121493",
     "status": "completed"
    },
    "tags": []
   },
   "source": [
    "25. 利用pytorch实现猫狗分类"
   ]
  }
 ],
 "metadata": {
  "kernelspec": {
   "display_name": "Python 3",
   "language": "python",
   "name": "python3"
  },
  "language_info": {
   "codemirror_mode": {
    "name": "ipython",
    "version": 3
   },
   "file_extension": ".py",
   "mimetype": "text/x-python",
   "name": "python",
   "nbconvert_exporter": "python",
   "pygments_lexer": "ipython3",
   "version": "3.7.9"
  },
  "papermill": {
   "default_parameters": {},
   "duration": 46.454016,
   "end_time": "2021-03-21T04:51:16.994336",
   "environment_variables": {},
   "exception": null,
   "input_path": "__notebook__.ipynb",
   "output_path": "__notebook__.ipynb",
   "parameters": {},
   "start_time": "2021-03-21T04:50:30.540320",
   "version": "2.2.2"
  }
 },
 "nbformat": 4,
 "nbformat_minor": 4
}
